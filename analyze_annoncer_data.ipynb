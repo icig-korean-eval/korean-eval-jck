{
 "cells": [
  {
   "cell_type": "code",
   "execution_count": 1,
   "id": "9a9f08a4",
   "metadata": {},
   "outputs": [],
   "source": [
    "import glob\n",
    "import pandas as pd\n",
    "import json\n",
    "from tqdm import tqdm\n",
    "from ipa.src.worker import convert\n",
    "from collections import defaultdict"
   ]
  },
  {
   "cell_type": "code",
   "execution_count": 2,
   "id": "78c43794",
   "metadata": {},
   "outputs": [
    {
     "data": {
      "text/plain": [
       "35126"
      ]
     },
     "execution_count": 2,
     "metadata": {},
     "output_type": "execute_result"
    }
   ],
   "source": [
    "audio_paths = glob.glob('./data/announcer/source/*/*/*.wav')\n",
    "len(audio_paths)"
   ]
  },
  {
   "cell_type": "code",
   "execution_count": 3,
   "id": "2d3f649b",
   "metadata": {},
   "outputs": [
    {
     "data": {
      "text/plain": [
       "35126"
      ]
     },
     "execution_count": 3,
     "metadata": {},
     "output_type": "execute_result"
    }
   ],
   "source": [
    "label_paths = glob.glob('./data/announcer/labeling/*/*/*.json')\n",
    "len(label_paths)"
   ]
  },
  {
   "cell_type": "code",
   "execution_count": 4,
   "id": "d2e22b2e",
   "metadata": {},
   "outputs": [
    {
     "name": "stderr",
     "output_type": "stream",
     "text": [
      "100%|██████████| 35126/35126 [00:16<00:00, 2101.03it/s]\n"
     ]
    }
   ],
   "source": [
    "df_list = []\n",
    "for file in tqdm(label_paths):\n",
    "    with open(file, 'r', encoding='utf-8') as f:\n",
    "        data = json.load(f)\n",
    "    df = pd.json_normalize(data)\n",
    "    \n",
    "    soundpath = file.split('/')\n",
    "    df['soundpath'] = soundpath[4] + '/' + soundpath[5] + '/' + soundpath[6][:-4] + 'wav'\n",
    "    # print(convert(df['script.text'][0], rules_to_apply='pastcnovr'))\n",
    "    # break\n",
    "    df_list.append(df)\n",
    "merged_df = pd.concat(df_list, ignore_index=True)"
   ]
  },
  {
   "cell_type": "code",
   "execution_count": 5,
   "id": "6c9d1567",
   "metadata": {},
   "outputs": [
    {
     "data": {
      "text/html": [
       "<div>\n",
       "<style scoped>\n",
       "    .dataframe tbody tr th:only-of-type {\n",
       "        vertical-align: middle;\n",
       "    }\n",
       "\n",
       "    .dataframe tbody tr th {\n",
       "        vertical-align: top;\n",
       "    }\n",
       "\n",
       "    .dataframe thead th {\n",
       "        text-align: right;\n",
       "    }\n",
       "</style>\n",
       "<table border=\"1\" class=\"dataframe\">\n",
       "  <thead>\n",
       "    <tr style=\"text-align: right;\">\n",
       "      <th></th>\n",
       "      <th>script.id</th>\n",
       "      <th>script.url</th>\n",
       "      <th>script.title</th>\n",
       "      <th>script.press</th>\n",
       "      <th>script.press_field</th>\n",
       "      <th>script.press_date</th>\n",
       "      <th>script.index</th>\n",
       "      <th>script.text</th>\n",
       "      <th>script.sentence_type</th>\n",
       "      <th>script.keyword</th>\n",
       "      <th>speaker.id</th>\n",
       "      <th>speaker.age</th>\n",
       "      <th>speaker.sex</th>\n",
       "      <th>speaker.job</th>\n",
       "      <th>file_information.audio_format</th>\n",
       "      <th>file_information.utterance_start</th>\n",
       "      <th>file_information.utterance_end</th>\n",
       "      <th>file_information.audio_duration</th>\n",
       "      <th>soundpath</th>\n",
       "    </tr>\n",
       "  </thead>\n",
       "  <tbody>\n",
       "    <tr>\n",
       "      <th>0</th>\n",
       "      <td>YTNSO047</td>\n",
       "      <td>http://www.ytn.co.kr/_ln/0103_201801051649222977</td>\n",
       "      <td>참여연대 `다스 실소유주 밝힐 단서` 검찰에 문건 제출</td>\n",
       "      <td>YTN</td>\n",
       "      <td>사회</td>\n",
       "      <td>20180105</td>\n",
       "      <td>1</td>\n",
       "      <td>앞서 자동차 부품업체 다스의 비자금 조성 의혹을 검찰에 고발한 참여연대가, 다스의 ...</td>\n",
       "      <td>작문형</td>\n",
       "      <td>다스,김재정,처남 김재정,제삼자,처남 김재정 씨,상속세,부품업체 다스,김재정 회장,...</td>\n",
       "      <td>SPK057</td>\n",
       "      <td>30대</td>\n",
       "      <td>남성</td>\n",
       "      <td>아나운서준비생</td>\n",
       "      <td>44100 Hz 16bit PCM</td>\n",
       "      <td>0.436</td>\n",
       "      <td>11.464</td>\n",
       "      <td>11.938</td>\n",
       "      <td>SPK057/SPK057YTNSO047/SPK057YTNSO047M001.wav</td>\n",
       "    </tr>\n",
       "    <tr>\n",
       "      <th>1</th>\n",
       "      <td>YTNSO047</td>\n",
       "      <td>http://www.ytn.co.kr/_ln/0103_201801051649222977</td>\n",
       "      <td>참여연대 `다스 실소유주 밝힐 단서` 검찰에 문건 제출</td>\n",
       "      <td>YTN</td>\n",
       "      <td>사회</td>\n",
       "      <td>20180105</td>\n",
       "      <td>3</td>\n",
       "      <td>이 문건에는 김재정 씨 재산에 대한 여러 상속 방법을 가정해 분석해 놓은 내용이 담...</td>\n",
       "      <td>작문형</td>\n",
       "      <td>다스,김재정,처남 김재정,제삼자,처남 김재정 씨,상속세,부품업체 다스,김재정 회장,...</td>\n",
       "      <td>SPK057</td>\n",
       "      <td>30대</td>\n",
       "      <td>남성</td>\n",
       "      <td>아나운서준비생</td>\n",
       "      <td>44100 Hz 16bit PCM</td>\n",
       "      <td>0.440</td>\n",
       "      <td>6.504</td>\n",
       "      <td>6.988</td>\n",
       "      <td>SPK057/SPK057YTNSO047/SPK057YTNSO047M003.wav</td>\n",
       "    </tr>\n",
       "    <tr>\n",
       "      <th>2</th>\n",
       "      <td>YTNSO047</td>\n",
       "      <td>http://www.ytn.co.kr/_ln/0103_201801051649222977</td>\n",
       "      <td>참여연대 `다스 실소유주 밝힐 단서` 검찰에 문건 제출</td>\n",
       "      <td>YTN</td>\n",
       "      <td>사회</td>\n",
       "      <td>20180105</td>\n",
       "      <td>5</td>\n",
       "      <td>검찰의 다스 전담수사팀은 이에 대해 비자금 의혹을 밝히는 데 참고가 될지 검토하겠다...</td>\n",
       "      <td>완전직접인용형</td>\n",
       "      <td>다스,김재정,처남 김재정,제삼자,처남 김재정 씨,상속세,부품업체 다스,김재정 회장,...</td>\n",
       "      <td>SPK057</td>\n",
       "      <td>30대</td>\n",
       "      <td>남성</td>\n",
       "      <td>아나운서준비생</td>\n",
       "      <td>44100 Hz 16bit PCM</td>\n",
       "      <td>0.473</td>\n",
       "      <td>7.321</td>\n",
       "      <td>7.738</td>\n",
       "      <td>SPK057/SPK057YTNSO047/SPK057YTNSO047M005.wav</td>\n",
       "    </tr>\n",
       "    <tr>\n",
       "      <th>3</th>\n",
       "      <td>YTNSO047</td>\n",
       "      <td>http://www.ytn.co.kr/_ln/0103_201801051649222977</td>\n",
       "      <td>참여연대 `다스 실소유주 밝힐 단서` 검찰에 문건 제출</td>\n",
       "      <td>YTN</td>\n",
       "      <td>사회</td>\n",
       "      <td>20180105</td>\n",
       "      <td>2</td>\n",
       "      <td>`고 김재정 회장 상속세 관련`이라는 제목의 문건은, 다스의 최대 주주였던 이명박 ...</td>\n",
       "      <td>요약형</td>\n",
       "      <td>다스,김재정,처남 김재정,제삼자,처남 김재정 씨,상속세,부품업체 다스,김재정 회장,...</td>\n",
       "      <td>SPK057</td>\n",
       "      <td>30대</td>\n",
       "      <td>남성</td>\n",
       "      <td>아나운서준비생</td>\n",
       "      <td>44100 Hz 16bit PCM</td>\n",
       "      <td>0.499</td>\n",
       "      <td>11.527</td>\n",
       "      <td>11.938</td>\n",
       "      <td>SPK057/SPK057YTNSO047/SPK057YTNSO047M002.wav</td>\n",
       "    </tr>\n",
       "    <tr>\n",
       "      <th>4</th>\n",
       "      <td>YTNSO047</td>\n",
       "      <td>http://www.ytn.co.kr/_ln/0103_201801051649222977</td>\n",
       "      <td>참여연대 `다스 실소유주 밝힐 단서` 검찰에 문건 제출</td>\n",
       "      <td>YTN</td>\n",
       "      <td>사회</td>\n",
       "      <td>20180105</td>\n",
       "      <td>4</td>\n",
       "      <td>참여연대는 해당 문건이 최대주주 고 김재정 씨의 상속인인 권 모 씨를 위한 방법이 ...</td>\n",
       "      <td>작문형</td>\n",
       "      <td>다스,김재정,처남 김재정,제삼자,처남 김재정 씨,상속세,부품업체 다스,김재정 회장,...</td>\n",
       "      <td>SPK057</td>\n",
       "      <td>30대</td>\n",
       "      <td>남성</td>\n",
       "      <td>아나운서준비생</td>\n",
       "      <td>44100 Hz 16bit PCM</td>\n",
       "      <td>0.412</td>\n",
       "      <td>14.387</td>\n",
       "      <td>14.788</td>\n",
       "      <td>SPK057/SPK057YTNSO047/SPK057YTNSO047M004.wav</td>\n",
       "    </tr>\n",
       "  </tbody>\n",
       "</table>\n",
       "</div>"
      ],
      "text/plain": [
       "  script.id                                        script.url  \\\n",
       "0  YTNSO047  http://www.ytn.co.kr/_ln/0103_201801051649222977   \n",
       "1  YTNSO047  http://www.ytn.co.kr/_ln/0103_201801051649222977   \n",
       "2  YTNSO047  http://www.ytn.co.kr/_ln/0103_201801051649222977   \n",
       "3  YTNSO047  http://www.ytn.co.kr/_ln/0103_201801051649222977   \n",
       "4  YTNSO047  http://www.ytn.co.kr/_ln/0103_201801051649222977   \n",
       "\n",
       "                     script.title script.press script.press_field  \\\n",
       "0  참여연대 `다스 실소유주 밝힐 단서` 검찰에 문건 제출          YTN                 사회   \n",
       "1  참여연대 `다스 실소유주 밝힐 단서` 검찰에 문건 제출          YTN                 사회   \n",
       "2  참여연대 `다스 실소유주 밝힐 단서` 검찰에 문건 제출          YTN                 사회   \n",
       "3  참여연대 `다스 실소유주 밝힐 단서` 검찰에 문건 제출          YTN                 사회   \n",
       "4  참여연대 `다스 실소유주 밝힐 단서` 검찰에 문건 제출          YTN                 사회   \n",
       "\n",
       "  script.press_date  script.index  \\\n",
       "0          20180105             1   \n",
       "1          20180105             3   \n",
       "2          20180105             5   \n",
       "3          20180105             2   \n",
       "4          20180105             4   \n",
       "\n",
       "                                         script.text script.sentence_type  \\\n",
       "0  앞서 자동차 부품업체 다스의 비자금 조성 의혹을 검찰에 고발한 참여연대가, 다스의 ...                  작문형   \n",
       "1  이 문건에는 김재정 씨 재산에 대한 여러 상속 방법을 가정해 분석해 놓은 내용이 담...                  작문형   \n",
       "2  검찰의 다스 전담수사팀은 이에 대해 비자금 의혹을 밝히는 데 참고가 될지 검토하겠다...              완전직접인용형   \n",
       "3  `고 김재정 회장 상속세 관련`이라는 제목의 문건은, 다스의 최대 주주였던 이명박 ...                  요약형   \n",
       "4  참여연대는 해당 문건이 최대주주 고 김재정 씨의 상속인인 권 모 씨를 위한 방법이 ...                  작문형   \n",
       "\n",
       "                                      script.keyword speaker.id speaker.age  \\\n",
       "0  다스,김재정,처남 김재정,제삼자,처남 김재정 씨,상속세,부품업체 다스,김재정 회장,...     SPK057         30대   \n",
       "1  다스,김재정,처남 김재정,제삼자,처남 김재정 씨,상속세,부품업체 다스,김재정 회장,...     SPK057         30대   \n",
       "2  다스,김재정,처남 김재정,제삼자,처남 김재정 씨,상속세,부품업체 다스,김재정 회장,...     SPK057         30대   \n",
       "3  다스,김재정,처남 김재정,제삼자,처남 김재정 씨,상속세,부품업체 다스,김재정 회장,...     SPK057         30대   \n",
       "4  다스,김재정,처남 김재정,제삼자,처남 김재정 씨,상속세,부품업체 다스,김재정 회장,...     SPK057         30대   \n",
       "\n",
       "  speaker.sex speaker.job file_information.audio_format  \\\n",
       "0          남성     아나운서준비생            44100 Hz 16bit PCM   \n",
       "1          남성     아나운서준비생            44100 Hz 16bit PCM   \n",
       "2          남성     아나운서준비생            44100 Hz 16bit PCM   \n",
       "3          남성     아나운서준비생            44100 Hz 16bit PCM   \n",
       "4          남성     아나운서준비생            44100 Hz 16bit PCM   \n",
       "\n",
       "  file_information.utterance_start file_information.utterance_end  \\\n",
       "0                            0.436                         11.464   \n",
       "1                            0.440                          6.504   \n",
       "2                            0.473                          7.321   \n",
       "3                            0.499                         11.527   \n",
       "4                            0.412                         14.387   \n",
       "\n",
       "  file_information.audio_duration  \\\n",
       "0                          11.938   \n",
       "1                           6.988   \n",
       "2                           7.738   \n",
       "3                          11.938   \n",
       "4                          14.788   \n",
       "\n",
       "                                      soundpath  \n",
       "0  SPK057/SPK057YTNSO047/SPK057YTNSO047M001.wav  \n",
       "1  SPK057/SPK057YTNSO047/SPK057YTNSO047M003.wav  \n",
       "2  SPK057/SPK057YTNSO047/SPK057YTNSO047M005.wav  \n",
       "3  SPK057/SPK057YTNSO047/SPK057YTNSO047M002.wav  \n",
       "4  SPK057/SPK057YTNSO047/SPK057YTNSO047M004.wav  "
      ]
     },
     "execution_count": 5,
     "metadata": {},
     "output_type": "execute_result"
    }
   ],
   "source": [
    "merged_df.head()"
   ]
  },
  {
   "cell_type": "code",
   "execution_count": 6,
   "id": "bcc9e5ee",
   "metadata": {},
   "outputs": [],
   "source": [
    "merged_df.to_pickle('./data/announcer/labeling/merged.pickle')"
   ]
  },
  {
   "cell_type": "code",
   "execution_count": 7,
   "id": "749fe6b9",
   "metadata": {},
   "outputs": [
    {
     "name": "stdout",
     "output_type": "stream",
     "text": [
      "<class 'pandas.core.frame.DataFrame'>\n",
      "RangeIndex: 35126 entries, 0 to 35125\n",
      "Data columns (total 19 columns):\n",
      " #   Column                            Non-Null Count  Dtype \n",
      "---  ------                            --------------  ----- \n",
      " 0   script.id                         35126 non-null  object\n",
      " 1   script.url                        35126 non-null  object\n",
      " 2   script.title                      35126 non-null  object\n",
      " 3   script.press                      35126 non-null  object\n",
      " 4   script.press_field                35126 non-null  object\n",
      " 5   script.press_date                 35126 non-null  object\n",
      " 6   script.index                      35126 non-null  int64 \n",
      " 7   script.text                       35126 non-null  object\n",
      " 8   script.sentence_type              35126 non-null  object\n",
      " 9   script.keyword                    35126 non-null  object\n",
      " 10  speaker.id                        35126 non-null  object\n",
      " 11  speaker.age                       35126 non-null  object\n",
      " 12  speaker.sex                       35126 non-null  object\n",
      " 13  speaker.job                       35126 non-null  object\n",
      " 14  file_information.audio_format     35126 non-null  object\n",
      " 15  file_information.utterance_start  35126 non-null  object\n",
      " 16  file_information.utterance_end    35126 non-null  object\n",
      " 17  file_information.audio_duration   35126 non-null  object\n",
      " 18  soundpath                         35126 non-null  object\n",
      "dtypes: int64(1), object(18)\n",
      "memory usage: 5.1+ MB\n"
     ]
    }
   ],
   "source": [
    "merged_df.info()"
   ]
  },
  {
   "cell_type": "code",
   "execution_count": 8,
   "id": "2bdd75a4",
   "metadata": {},
   "outputs": [
    {
     "data": {
      "text/html": [
       "<div>\n",
       "<style scoped>\n",
       "    .dataframe tbody tr th:only-of-type {\n",
       "        vertical-align: middle;\n",
       "    }\n",
       "\n",
       "    .dataframe tbody tr th {\n",
       "        vertical-align: top;\n",
       "    }\n",
       "\n",
       "    .dataframe thead th {\n",
       "        text-align: right;\n",
       "    }\n",
       "</style>\n",
       "<table border=\"1\" class=\"dataframe\">\n",
       "  <thead>\n",
       "    <tr style=\"text-align: right;\">\n",
       "      <th>speaker.age</th>\n",
       "      <th>20대</th>\n",
       "      <th>30대</th>\n",
       "      <th>40대</th>\n",
       "      <th>50대</th>\n",
       "      <th>60대</th>\n",
       "    </tr>\n",
       "    <tr>\n",
       "      <th>speaker.job</th>\n",
       "      <th></th>\n",
       "      <th></th>\n",
       "      <th></th>\n",
       "      <th></th>\n",
       "      <th></th>\n",
       "    </tr>\n",
       "  </thead>\n",
       "  <tbody>\n",
       "    <tr>\n",
       "      <th>아나운서준비생</th>\n",
       "      <td>12664</td>\n",
       "      <td>2524</td>\n",
       "      <td>0</td>\n",
       "      <td>0</td>\n",
       "      <td>0</td>\n",
       "    </tr>\n",
       "    <tr>\n",
       "      <th>전직아나운서</th>\n",
       "      <td>315</td>\n",
       "      <td>2826</td>\n",
       "      <td>1796</td>\n",
       "      <td>361</td>\n",
       "      <td>0</td>\n",
       "    </tr>\n",
       "    <tr>\n",
       "      <th>현직아나운서</th>\n",
       "      <td>2807</td>\n",
       "      <td>8355</td>\n",
       "      <td>2909</td>\n",
       "      <td>0</td>\n",
       "      <td>569</td>\n",
       "    </tr>\n",
       "  </tbody>\n",
       "</table>\n",
       "</div>"
      ],
      "text/plain": [
       "speaker.age    20대   30대   40대  50대  60대\n",
       "speaker.job                             \n",
       "아나운서준비생      12664  2524     0    0    0\n",
       "전직아나운서         315  2826  1796  361    0\n",
       "현직아나운서        2807  8355  2909    0  569"
      ]
     },
     "execution_count": 8,
     "metadata": {},
     "output_type": "execute_result"
    }
   ],
   "source": [
    "pd.crosstab(merged_df['speaker.job'], merged_df['speaker.age'])"
   ]
  },
  {
   "cell_type": "code",
   "execution_count": 9,
   "id": "1aea5ace",
   "metadata": {},
   "outputs": [
    {
     "data": {
      "text/plain": [
       "file_information.audio_format\n",
       "44100 Hz 16bit PCM    35126\n",
       "Name: count, dtype: int64"
      ]
     },
     "execution_count": 9,
     "metadata": {},
     "output_type": "execute_result"
    }
   ],
   "source": [
    "merged_df['file_information.audio_format'].value_counts()"
   ]
  },
  {
   "cell_type": "code",
   "execution_count": 10,
   "id": "e7c8983e",
   "metadata": {},
   "outputs": [],
   "source": [
    "import re\n",
    "from collections import Counter"
   ]
  },
  {
   "cell_type": "code",
   "execution_count": 11,
   "id": "dbe4a339",
   "metadata": {},
   "outputs": [],
   "source": [
    "def count_special_characters(text):\n",
    "    \"\"\"\n",
    "    주어진 텍스트에서 특수문자(알파벳, 숫자, 밑줄, 공백 제외)를 찾아 개수를 Counter 객체로 반환합니다.\n",
    "    \"\"\"\n",
    "    # [^\\w\\s] : \\w (단어문자; 유니코드 모드에서는 한글도 포함)와 \\s (공백 문자)를 제외한 모든 문자\n",
    "    specials = re.findall(r'[^\\w\\s]', text)\n",
    "    return Counter(specials)\n",
    "\n",
    "def count_special_characters_in_dataframe(df, text_column='text'):\n",
    "    \"\"\"\n",
    "    DataFrame의 지정된 text_column에 있는 모든 텍스트에서 특수문자를 추출하여,\n",
    "    전체 특수문자 종류와 개수를 딕셔너리 형태로 반환합니다.\n",
    "    \"\"\"\n",
    "    total_counts = Counter()\n",
    "    # 결측치를 제외하고 순회\n",
    "    for text in tqdm(df[text_column].dropna()):\n",
    "        total_counts += count_special_characters(text)\n",
    "    return dict(total_counts)"
   ]
  },
  {
   "cell_type": "code",
   "execution_count": 12,
   "id": "7d7a31cd",
   "metadata": {},
   "outputs": [
    {
     "name": "stderr",
     "output_type": "stream",
     "text": [
      "100%|██████████| 35126/35126 [00:00<00:00, 276287.86it/s]"
     ]
    },
    {
     "name": "stdout",
     "output_type": "stream",
     "text": [
      "특수문자 개수 집계:\n",
      "',': 19144\n",
      "'(': 72202\n",
      "')': 72202\n",
      "'/': 36111\n",
      "'.': 36517\n",
      "'`': 7314\n",
      "''': 4473\n",
      "'?': 123\n",
      "'%': 1983\n",
      "'㎡': 38\n",
      "'-': 231\n",
      "'~': 311\n",
      "'∼': 37\n",
      "':': 10\n",
      "'㎜': 3\n",
      "'±': 5\n",
      "'​': 6\n",
      "'+': 9\n",
      "'·': 10\n",
      "'㎞': 9\n",
      "'％': 48\n",
      "'㎝': 8\n",
      "'㎖': 5\n",
      "'㎢': 7\n",
      "'㎥': 1\n",
      "'&': 3\n",
      "'℃': 4\n"
     ]
    },
    {
     "name": "stderr",
     "output_type": "stream",
     "text": [
      "\n"
     ]
    }
   ],
   "source": [
    "special_char_counts = count_special_characters_in_dataframe(merged_df, text_column='script.text')\n",
    "print(\"특수문자 개수 집계:\")\n",
    "for char, count in special_char_counts.items():\n",
    "    print(f\"'{char}': {count}\")"
   ]
  },
  {
   "cell_type": "code",
   "execution_count": 13,
   "id": "6f4be9b6",
   "metadata": {},
   "outputs": [
    {
     "name": "stderr",
     "output_type": "stream",
     "text": [
      "100%|██████████| 35126/35126 [00:00<00:00, 481450.41it/s]"
     ]
    },
    {
     "name": "stdout",
     "output_type": "stream",
     "text": [
      "특수문자 ','가 포함된 문장: 하지만 서울중앙지방검찰청은 지난 (24)/(이십 사) 일에 충분한 시간을 두고 소환을 요구했다며, 예정대로 오늘 출석하라고 재차 통보했다고 밝혔습니다.\n",
      "특수문자 '.'가 포함된 문장: 문재인 대통령은 코로나 (19)/(일 구) 위기를 극복하고 선도국가로 도약하기 위한 대전환의 출발점인 `한국판 뉴딜`에 오는 (2025)/(이천 이십 오) 년까지 (160)/(백 육십) 조 원을 투입해 새로운 일자리 (190)/(백 구십) 만 개를 창출하겠다고 밝혔습니다.\n",
      "특수문자 ')'가 포함된 문장: 박근혜 전 대통령에 대한 (1)/(일) 심 선고도 올해 초를 넘기지 않을 거란 전망이 우세합니다.\n",
      "특수문자 '('가 포함된 문장: 특히 가거도는 파고도 (4.3m)/(사 점 삼 미터) 까지 예상돼 접근 자체가 위험하겠습니다.\n",
      "특수문자 '/'가 포함된 문장: 사고는 서울 강동구 지하철 (5)/(오) 호선 고덕역 근처에서 벌어졌는데, 앞서 경찰은 그제 형사 강력팀을 추가 투입해 사건 경위 등을 조사하고 있습니다.\n",
      "특수문자 '`'가 포함된 문장: 척추질환이 있는데도 맥주 박스를 `번쩍` 들어올렸다는 지적에 대해서도 지인과 함께 나란히 들었을 뿐 `번쩍` 들어 올린 건 아니라면서 '표현의 정도가 과하지 않나 싶다' 고 덧붙였습니다.\n",
      "특수문자 '''가 포함된 문장: 재판부는 '재산을 해외로 도피시킬 것이 확정적으로 증명되지 않았어도 그럴 우려가 있다면 출국금지 사유로 충분하다' 고 판단했습니다.\n",
      "특수문자 '?'가 포함된 문장: 난생 처음 오는 경찰서라 무서웠던 걸까요?\n",
      "특수문자 '%'가 포함된 문장: 채용 비율은 올해 (18%)/(십 팔 퍼센트) 에서 단계적으로 (30%)/(삼십 퍼센트) 까지 확대됩니다.\n",
      "특수문자 '㎡'가 포함된 문장: 노동신문은 지난 (7)/(칠) 일 당의 수도건설 구상에 따라 만 세대 살림집 건설이 추진되는 가운데 대평지구에 추가로 단지 조성이 진행되고 있다고 보도하며, 수만 (㎡)/(제곱미터) 규모의 지대 정리가 이뤄졌고 고층 건물들이 속속 들어서고 있다고 전했습니다.\n",
      "특수문자 '-'가 포함된 문장: 이 밖에 조사 대상인 민자 도로 (12)/(열 두) 곳 모두 보행자 안전을 위한 보행통로와 횡단보도를 설치하지 않았고, 특히 광주 (-)/(에서) 원주 민자 도로는 휴게소 매장 수수료가 최대 (52%)/(오십 이 퍼센트) 에 달하는 것으로 나타났습니다.\n",
      "특수문자 '~'가 포함된 문장: 이 지역에는 아침까지 (1~3cm)/(일 에서 삼 센티미터) 의 눈이 더 내린 뒤 그치겠습니다.\n",
      "특수문자 '∼'가 포함된 문장: 서울 지하철 (1∼8)/(일 에서 팔) 호선과 (9)/(구) 호선 일부 구간을 운영하는 서울교통공사는 최근 광고심의위원회를 열어 지하철 의견광고의 심의 기준을 확정했습니다.\n",
      "특수문자 ':'가 포함된 문장: 올해 들어 누적 관객 (100)/(백) 만 명을 넘긴 영화는 `해적: 도깨비깃발`, `신비한 동물들과 덤블도어의 비밀`에 이어 세 번째입니다.\n",
      "특수문자 '㎜'가 포함된 문장: 더불어민주당 김진표 의원은 오늘 합동참모본부 국정감사에서 합참의 (ROC)/(알 오 씨) 는 (800m)/(팔백 미터) 유효 사거리에서 탄환이 (3.43㎜)/(삼 점 사 삼 밀리미터) 연강판을 관통해야 합격이지만, 운동 에너지와 탄환 속도가 예상대로 나왔는데도 연강판을 관통하지 못했다고 밝혔습니다.\n",
      "특수문자 '±'가 포함된 문장: 민화협 여론 조사는 지난 (23)/(이십 삼) 일 전국 만 (19)/(십 구) 세 이상의 남녀 (800)/(팔백) 명을 상대로 전화면접조사 방식으로 이뤄졌고, 신뢰도는 (95%)/(구십 오 퍼센트), 오차 범위는 (±3.5%)/(플러스마이너스 삼 점 오 퍼센트) 포인트입니다.\n",
      "특수문자 '​'가 포함된 문장: ​`말년` 이라며 수시로 부대를 무단이탈한 것으로 드러났습니다.\n",
      "특수문자 '+'가 포함된 문장: 애플 (TV+)/(티 브이 플러스) 드라마에 힘입어 지난주까지 (2)/(이) 주 연속 (1)/(일) 위를 기록한 이민진 작가의 원작소설 `파친코 (1)/(일)`은 판권계약 문제로 판매가 중단되면서 (14)/(십 사) 위로 내려갔습니다.\n",
      "특수문자 '·'가 포함된 문장: (5·18)/(오 일 팔) 기념재단과 유족회 부상자회 구속부상자회 등 (5)/(오) 월 (3)/(세) 단체는 오늘 기자간담회를 열고 이 같은 일정이 담긴 올해 사업계획을 발표했습니다.\n",
      "특수문자 '㎞'가 포함된 문장: 미국과 캐나다는 세계에서 가장 긴 (8,900㎞)/(팔천 구백 킬로미터) 길이의 국경을 접하고 있으며, (3,140㎞)/(삼천 백 사십 킬로미터) 길이의 미국 (-)/(과) 멕시코 국경은 전 세계에서 이동량이 가장 많은 국경으로 꼽힙니다.\n",
      "특수문자 '％'가 포함된 문장: 연세대 수시 미등록 인원은 (297)/(이백 구십 칠) 명으로 지난 학년도보다 (15％)/(십 오 퍼센트) 줄었고 고려대는 (190)/(백 구십) 명으로 (34%)/(삼십 사 퍼센트) 늘었습니다.\n",
      "특수문자 '㎝'가 포함된 문장: 또 강선이 들어가는 상부 판의 두께가 (30㎝)/(삼십 센티미터) 로 얇아 철근을 보강하는 데 어려움이 있었습니다.\n",
      "특수문자 '㎖'가 포함된 문장: 투약은 (5)/(오) 일간 (10㎖)/(십 밀리리터) 주사약 (6)/(여섯) 병이 원칙으로, 필요한 경우 투약 기간을 (5)/(오) 일 더 연장할 수 있습니다.\n",
      "특수문자 '㎢'가 포함된 문장: 유네스코 집행이사회가 인증한 한탄강 세계지질공원은 여의도 면적의 (4)/(사) 백 배에 달하는 (1,165㎢)/(천 백 육십 오 제곱킬로미터) .\n",
      "특수문자 '㎥'가 포함된 문장: (CCTV)/(씨 씨 티 브이) 는 그러나 양쯔강 상류에서 싼샤댐으로 들어오는 수량이 어제 오전 (8)/(여덟) 시 초당 (6)/(육) 만 천 (㎥)/(세제곱미터) 를 정점으로 점차 감소하고 있다고 전했습니다.\n",
      "특수문자 '&'가 포함된 문장: (SBS)/(에스 비 에스) 는 올 초 단체협약 개정 협상에서 (SBS)/(에스 비 에스) 와 (SBS A&T)/(에스 비 에스 에이 앤 티) 사장, 보도 책임자의 임명동의제를 폐기하겠다고 밝혔고, 전국언론노동조합 (SBS)/(에스 비 에스) 본부가 이에 반발하자 지난 (2)/(이) 일 단협 해지를 통보했습니다.\n",
      "특수문자 '℃'가 포함된 문장: 인플루엔자 의사 환자는 (38℃ )/(삼십 팔 도) 이상의 갑작스러운 발열과 함께 기침이나 인후통을 보이는 사람을 말합니다.\n"
     ]
    },
    {
     "name": "stderr",
     "output_type": "stream",
     "text": [
      "\n"
     ]
    }
   ],
   "source": [
    "import random\n",
    "spec_to_sentences = defaultdict(list)\n",
    "\n",
    "for text in tqdm(merged_df['script.text'].dropna()):\n",
    "    specs = re.findall(r'[^\\w\\s]', text)\n",
    "    # 같은 문장 내에서도 중복된 특수문자 대신 한번만 기록하도록 set 사용\n",
    "    for spec in set(specs):\n",
    "        spec_to_sentences[spec].append(text)\n",
    "\n",
    "result = {}\n",
    "for spec, sentences in spec_to_sentences.items():\n",
    "    result[spec] = random.choice(sentences)\n",
    "    \n",
    "for spec, sentence in result.items():\n",
    "    print(f\"특수문자 '{spec}'가 포함된 문장: {sentence}\")"
   ]
  },
  {
   "cell_type": "code",
   "execution_count": 14,
   "id": "89f70df5",
   "metadata": {},
   "outputs": [],
   "source": [
    "def transform_func(text: str) -> str:\n",
    "    pattern = r'\\((.*?)\\)/\\((.*?)\\)'\n",
    "    transformed_text = re.sub(pattern, r'\\2', text)\n",
    "    transformed_text = re.sub(r\"[:'`]\", \"\", transformed_text)\n",
    "    transformed_text = re.sub(r\"[·]\", \" \", transformed_text)\n",
    "    return transformed_text"
   ]
  },
  {
   "cell_type": "code",
   "execution_count": 15,
   "id": "9f553bcf",
   "metadata": {},
   "outputs": [
    {
     "data": {
      "text/plain": [
       "'이번 회의에서는 이천 십 칠 년도 생명 신체 데이터를 중점적으로 다룹니다.'"
      ]
     },
     "execution_count": 15,
     "metadata": {},
     "output_type": "execute_result"
    }
   ],
   "source": [
    "transform_func(\"이번 회의에서는 (2017)/(이천 십 칠) 년도 생명·신체 데이터를 중점적으로 다룹니다.\")"
   ]
  },
  {
   "cell_type": "code",
   "execution_count": 25,
   "id": "cc73395f",
   "metadata": {},
   "outputs": [],
   "source": [
    "merged_df['script.text.transformed'] = merged_df['script.text'].apply(transform_func)"
   ]
  },
  {
   "cell_type": "code",
   "execution_count": 26,
   "id": "ac4a0871",
   "metadata": {},
   "outputs": [
    {
     "name": "stderr",
     "output_type": "stream",
     "text": [
      "100%|██████████| 35126/35126 [00:00<00:00, 421105.18it/s]"
     ]
    },
    {
     "name": "stdout",
     "output_type": "stream",
     "text": [
      "특수문자 개수 집계:\n",
      "',': 18620\n",
      "'.': 34910\n",
      "'?': 123\n",
      "'​': 6\n"
     ]
    },
    {
     "name": "stderr",
     "output_type": "stream",
     "text": [
      "\n"
     ]
    }
   ],
   "source": [
    "special_char_counts = count_special_characters_in_dataframe(merged_df, text_column='script.text.transformed')\n",
    "print(\"특수문자 개수 집계:\")\n",
    "for char, count in special_char_counts.items():\n",
    "    print(f\"'{char}': {count}\")"
   ]
  },
  {
   "cell_type": "code",
   "execution_count": 27,
   "id": "e293506d",
   "metadata": {},
   "outputs": [
    {
     "name": "stderr",
     "output_type": "stream",
     "text": [
      "100%|██████████| 35126/35126 [00:00<00:00, 652337.51it/s]"
     ]
    },
    {
     "name": "stdout",
     "output_type": "stream",
     "text": [
      "특수문자 ','가 포함된 문장: 강원도는 평창 지역에서 자가격리 중이던 에이 씨의 육십 대 어머니와 세 살 딸, 두 살 아들도 모두 코로나 일 구 확진 판정을 받았다고 밝혔습니다.\n",
      "특수문자 '.'가 포함된 문장: 통합당 주호영 원내대표는 서울 강남 아파트를 팔지 않아 논란을 빚었던 노영민 대통령 비서실장에 대해 그게 보통 사람들의 생각 이라면서 자신도 서울 서초구의 아파트 대신 대구 지역구의 집을 팔았다고 밝혔습니다.\n",
      "특수문자 '?'가 포함된 문장: 학생을 살뜰히 챙기려 기숙사에 몰래 들어갔다?\n",
      "특수문자 '​'가 포함된 문장: 미군부대에서 근무하는 카투사 병장 다섯 명이 ​군사재판에 회부됐는데요.\n"
     ]
    },
    {
     "name": "stderr",
     "output_type": "stream",
     "text": [
      "\n"
     ]
    }
   ],
   "source": [
    "import random\n",
    "spec_to_sentences = defaultdict(list)\n",
    "\n",
    "for text in tqdm(merged_df['script.text.transformed'].dropna()):\n",
    "    specs = re.findall(r'[^\\w\\s]', text)\n",
    "    # 같은 문장 내에서도 중복된 특수문자 대신 한번만 기록하도록 set 사용\n",
    "    for spec in set(specs):\n",
    "        spec_to_sentences[spec].append(text)\n",
    "\n",
    "result = {}\n",
    "for spec, sentences in spec_to_sentences.items():\n",
    "    result[spec] = random.choice(sentences)\n",
    "    \n",
    "for spec, sentence in result.items():\n",
    "    print(f\"특수문자 '{spec}'가 포함된 문장: {sentence}\")"
   ]
  },
  {
   "cell_type": "code",
   "execution_count": 28,
   "id": "b76cedc5",
   "metadata": {},
   "outputs": [],
   "source": [
    "def convert_ipa(item):\n",
    "    return convert(item, rules_to_apply='pastcnovr')['result']"
   ]
  },
  {
   "cell_type": "code",
   "execution_count": 29,
   "id": "c95376b6",
   "metadata": {},
   "outputs": [
    {
     "name": "stderr",
     "output_type": "stream",
     "text": [
      "100%|██████████| 35126/35126 [01:22<00:00, 424.58it/s]\n"
     ]
    }
   ],
   "source": [
    "res = []\n",
    "for v in tqdm(merged_df['script.text.transformed']):\n",
    "    # print(v)\n",
    "    res.append(convert(v, rules_to_apply='pastcnovr')['result'])\n",
    "merged_df['script.text.ipa'] = res"
   ]
  },
  {
   "cell_type": "code",
   "execution_count": 30,
   "id": "d4ce41fa",
   "metadata": {},
   "outputs": [],
   "source": [
    "new_df = merged_df[['soundpath', 'script.text.ipa', 'script.text.transformed']]"
   ]
  },
  {
   "cell_type": "code",
   "execution_count": 31,
   "id": "05bc6adf",
   "metadata": {},
   "outputs": [
    {
     "data": {
      "text/html": [
       "<div>\n",
       "<style scoped>\n",
       "    .dataframe tbody tr th:only-of-type {\n",
       "        vertical-align: middle;\n",
       "    }\n",
       "\n",
       "    .dataframe tbody tr th {\n",
       "        vertical-align: top;\n",
       "    }\n",
       "\n",
       "    .dataframe thead th {\n",
       "        text-align: right;\n",
       "    }\n",
       "</style>\n",
       "<table border=\"1\" class=\"dataframe\">\n",
       "  <thead>\n",
       "    <tr style=\"text-align: right;\">\n",
       "      <th></th>\n",
       "      <th>soundpath</th>\n",
       "      <th>script.text.ipa</th>\n",
       "      <th>script.text.transformed</th>\n",
       "    </tr>\n",
       "  </thead>\n",
       "  <tbody>\n",
       "    <tr>\n",
       "      <th>0</th>\n",
       "      <td>SPK057/SPK057YTNSO047/SPK057YTNSO047M001.wav</td>\n",
       "      <td>ɑps*ʌ dʑɑdoŋtɕʰɑ bupʰumʌptɕʰɛ dɑsɯɰi bidʑɑɡɯm ...</td>\n",
       "      <td>앞서 자동차 부품업체 다스의 비자금 조성 의혹을 검찰에 고발한 참여연대가, 다스의 ...</td>\n",
       "    </tr>\n",
       "    <tr>\n",
       "      <th>1</th>\n",
       "      <td>SPK057/SPK057YTNSO047/SPK057YTNSO047M003.wav</td>\n",
       "      <td>i muŋɡʌnɛnɯŋ ɡimdʑɛdʑʌŋ s*i dʑɛsɑnɛ dɛhɑn jʌɾʌ...</td>\n",
       "      <td>이 문건에는 김재정 씨 재산에 대한 여러 상속 방법을 가정해 분석해 놓은 내용이 담...</td>\n",
       "    </tr>\n",
       "    <tr>\n",
       "      <th>2</th>\n",
       "      <td>SPK057/SPK057YTNSO047/SPK057YTNSO047M005.wav</td>\n",
       "      <td>kʌmtɕʰɑɾɰi dɑsɯ dʑʌndɑmsusɑtʰimɯn iɛ dɛhɛ bidʑ...</td>\n",
       "      <td>검찰의 다스 전담수사팀은 이에 대해 비자금 의혹을 밝히는 데 참고가 될지 검토하겠다...</td>\n",
       "    </tr>\n",
       "    <tr>\n",
       "      <th>3</th>\n",
       "      <td>SPK057/SPK057YTNSO047/SPK057YTNSO047M002.wav</td>\n",
       "      <td>ko ɡimdʑɛdʑʌŋ hwɛdʑɑŋ sɑŋsoks*ɛ ɡwalljʌniɾɑnɯn...</td>\n",
       "      <td>고 김재정 회장 상속세 관련이라는 제목의 문건은, 다스의 최대 주주였던 이명박 전 ...</td>\n",
       "    </tr>\n",
       "    <tr>\n",
       "      <th>4</th>\n",
       "      <td>SPK057/SPK057YTNSO047/SPK057YTNSO047M004.wav</td>\n",
       "      <td>tɕʰɑmjʌjʌndɛnɯn hɛdɑŋ muŋɡʌni tɕʰwɛdɛdʑudʑu ɡo...</td>\n",
       "      <td>참여연대는 해당 문건이 최대주주 고 김재정 씨의 상속인인 권 모 씨를 위한 방법이 ...</td>\n",
       "    </tr>\n",
       "  </tbody>\n",
       "</table>\n",
       "</div>"
      ],
      "text/plain": [
       "                                      soundpath  \\\n",
       "0  SPK057/SPK057YTNSO047/SPK057YTNSO047M001.wav   \n",
       "1  SPK057/SPK057YTNSO047/SPK057YTNSO047M003.wav   \n",
       "2  SPK057/SPK057YTNSO047/SPK057YTNSO047M005.wav   \n",
       "3  SPK057/SPK057YTNSO047/SPK057YTNSO047M002.wav   \n",
       "4  SPK057/SPK057YTNSO047/SPK057YTNSO047M004.wav   \n",
       "\n",
       "                                     script.text.ipa  \\\n",
       "0  ɑps*ʌ dʑɑdoŋtɕʰɑ bupʰumʌptɕʰɛ dɑsɯɰi bidʑɑɡɯm ...   \n",
       "1  i muŋɡʌnɛnɯŋ ɡimdʑɛdʑʌŋ s*i dʑɛsɑnɛ dɛhɑn jʌɾʌ...   \n",
       "2  kʌmtɕʰɑɾɰi dɑsɯ dʑʌndɑmsusɑtʰimɯn iɛ dɛhɛ bidʑ...   \n",
       "3  ko ɡimdʑɛdʑʌŋ hwɛdʑɑŋ sɑŋsoks*ɛ ɡwalljʌniɾɑnɯn...   \n",
       "4  tɕʰɑmjʌjʌndɛnɯn hɛdɑŋ muŋɡʌni tɕʰwɛdɛdʑudʑu ɡo...   \n",
       "\n",
       "                             script.text.transformed  \n",
       "0  앞서 자동차 부품업체 다스의 비자금 조성 의혹을 검찰에 고발한 참여연대가, 다스의 ...  \n",
       "1  이 문건에는 김재정 씨 재산에 대한 여러 상속 방법을 가정해 분석해 놓은 내용이 담...  \n",
       "2  검찰의 다스 전담수사팀은 이에 대해 비자금 의혹을 밝히는 데 참고가 될지 검토하겠다...  \n",
       "3  고 김재정 회장 상속세 관련이라는 제목의 문건은, 다스의 최대 주주였던 이명박 전 ...  \n",
       "4  참여연대는 해당 문건이 최대주주 고 김재정 씨의 상속인인 권 모 씨를 위한 방법이 ...  "
      ]
     },
     "execution_count": 31,
     "metadata": {},
     "output_type": "execute_result"
    }
   ],
   "source": [
    "new_df.head()"
   ]
  },
  {
   "cell_type": "code",
   "execution_count": 32,
   "id": "81a2ef46",
   "metadata": {},
   "outputs": [],
   "source": [
    "new_df.to_pickle('./data/announcer/labeling/preprocessed.pickle')"
   ]
  },
  {
   "cell_type": "code",
   "execution_count": null,
   "id": "ac13234c",
   "metadata": {},
   "outputs": [],
   "source": []
  }
 ],
 "metadata": {
  "kernelspec": {
   "display_name": "base",
   "language": "python",
   "name": "python3"
  },
  "language_info": {
   "codemirror_mode": {
    "name": "ipython",
    "version": 3
   },
   "file_extension": ".py",
   "mimetype": "text/x-python",
   "name": "python",
   "nbconvert_exporter": "python",
   "pygments_lexer": "ipython3",
   "version": "3.12.4"
  }
 },
 "nbformat": 4,
 "nbformat_minor": 5
}
