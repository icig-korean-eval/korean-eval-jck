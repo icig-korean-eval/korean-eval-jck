{
 "cells": [
  {
   "cell_type": "code",
   "execution_count": 1,
   "id": "9a9f08a4",
   "metadata": {},
   "outputs": [],
   "source": [
    "import glob\n",
    "import pandas as pd\n",
    "import json\n",
    "from tqdm import tqdm\n",
    "from ipa.src.worker import convert\n",
    "from collections import defaultdict"
   ]
  },
  {
   "cell_type": "code",
   "execution_count": 2,
   "id": "78c43794",
   "metadata": {},
   "outputs": [
    {
     "data": {
      "text/plain": [
       "35126"
      ]
     },
     "execution_count": 2,
     "metadata": {},
     "output_type": "execute_result"
    }
   ],
   "source": [
    "audio_paths = glob.glob('./data/announcer/source/*/*/*.wav')\n",
    "len(audio_paths)"
   ]
  },
  {
   "cell_type": "code",
   "execution_count": 3,
   "id": "2d3f649b",
   "metadata": {},
   "outputs": [
    {
     "data": {
      "text/plain": [
       "35126"
      ]
     },
     "execution_count": 3,
     "metadata": {},
     "output_type": "execute_result"
    }
   ],
   "source": [
    "label_paths = glob.glob('./data/announcer/labeling/*/*/*.json')\n",
    "len(label_paths)"
   ]
  },
  {
   "cell_type": "code",
   "execution_count": 4,
   "id": "d2e22b2e",
   "metadata": {},
   "outputs": [
    {
     "name": "stderr",
     "output_type": "stream",
     "text": [
      "100%|██████████| 35126/35126 [00:21<00:00, 1639.72it/s]\n"
     ]
    }
   ],
   "source": [
    "df_list = []\n",
    "for file in tqdm(label_paths):\n",
    "    with open(file, 'r', encoding='utf-8') as f:\n",
    "        data = json.load(f)\n",
    "    df = pd.json_normalize(data)\n",
    "    \n",
    "    soundpath = file.split('/')\n",
    "    df['soundpath'] = soundpath[4] + '/' + soundpath[5] + '/' + soundpath[6][:-4] + 'wav'\n",
    "    # print(convert(df['script.text'][0], rules_to_apply='pastcnovr'))\n",
    "    # break\n",
    "    df_list.append(df)\n",
    "merged_df = pd.concat(df_list, ignore_index=True)"
   ]
  },
  {
   "cell_type": "code",
   "execution_count": 5,
   "id": "6c9d1567",
   "metadata": {},
   "outputs": [
    {
     "data": {
      "text/html": [
       "<div>\n",
       "<style scoped>\n",
       "    .dataframe tbody tr th:only-of-type {\n",
       "        vertical-align: middle;\n",
       "    }\n",
       "\n",
       "    .dataframe tbody tr th {\n",
       "        vertical-align: top;\n",
       "    }\n",
       "\n",
       "    .dataframe thead th {\n",
       "        text-align: right;\n",
       "    }\n",
       "</style>\n",
       "<table border=\"1\" class=\"dataframe\">\n",
       "  <thead>\n",
       "    <tr style=\"text-align: right;\">\n",
       "      <th></th>\n",
       "      <th>script.id</th>\n",
       "      <th>script.url</th>\n",
       "      <th>script.title</th>\n",
       "      <th>script.press</th>\n",
       "      <th>script.press_field</th>\n",
       "      <th>script.press_date</th>\n",
       "      <th>script.index</th>\n",
       "      <th>script.text</th>\n",
       "      <th>script.sentence_type</th>\n",
       "      <th>script.keyword</th>\n",
       "      <th>speaker.id</th>\n",
       "      <th>speaker.age</th>\n",
       "      <th>speaker.sex</th>\n",
       "      <th>speaker.job</th>\n",
       "      <th>file_information.audio_format</th>\n",
       "      <th>file_information.utterance_start</th>\n",
       "      <th>file_information.utterance_end</th>\n",
       "      <th>file_information.audio_duration</th>\n",
       "      <th>soundpath</th>\n",
       "    </tr>\n",
       "  </thead>\n",
       "  <tbody>\n",
       "    <tr>\n",
       "      <th>0</th>\n",
       "      <td>YTNSO047</td>\n",
       "      <td>http://www.ytn.co.kr/_ln/0103_201801051649222977</td>\n",
       "      <td>참여연대 `다스 실소유주 밝힐 단서` 검찰에 문건 제출</td>\n",
       "      <td>YTN</td>\n",
       "      <td>사회</td>\n",
       "      <td>20180105</td>\n",
       "      <td>1</td>\n",
       "      <td>앞서 자동차 부품업체 다스의 비자금 조성 의혹을 검찰에 고발한 참여연대가, 다스의 ...</td>\n",
       "      <td>작문형</td>\n",
       "      <td>다스,김재정,처남 김재정,제삼자,처남 김재정 씨,상속세,부품업체 다스,김재정 회장,...</td>\n",
       "      <td>SPK057</td>\n",
       "      <td>30대</td>\n",
       "      <td>남성</td>\n",
       "      <td>아나운서준비생</td>\n",
       "      <td>44100 Hz 16bit PCM</td>\n",
       "      <td>0.436</td>\n",
       "      <td>11.464</td>\n",
       "      <td>11.938</td>\n",
       "      <td>SPK057/SPK057YTNSO047/SPK057YTNSO047M001.wav</td>\n",
       "    </tr>\n",
       "    <tr>\n",
       "      <th>1</th>\n",
       "      <td>YTNSO047</td>\n",
       "      <td>http://www.ytn.co.kr/_ln/0103_201801051649222977</td>\n",
       "      <td>참여연대 `다스 실소유주 밝힐 단서` 검찰에 문건 제출</td>\n",
       "      <td>YTN</td>\n",
       "      <td>사회</td>\n",
       "      <td>20180105</td>\n",
       "      <td>3</td>\n",
       "      <td>이 문건에는 김재정 씨 재산에 대한 여러 상속 방법을 가정해 분석해 놓은 내용이 담...</td>\n",
       "      <td>작문형</td>\n",
       "      <td>다스,김재정,처남 김재정,제삼자,처남 김재정 씨,상속세,부품업체 다스,김재정 회장,...</td>\n",
       "      <td>SPK057</td>\n",
       "      <td>30대</td>\n",
       "      <td>남성</td>\n",
       "      <td>아나운서준비생</td>\n",
       "      <td>44100 Hz 16bit PCM</td>\n",
       "      <td>0.440</td>\n",
       "      <td>6.504</td>\n",
       "      <td>6.988</td>\n",
       "      <td>SPK057/SPK057YTNSO047/SPK057YTNSO047M003.wav</td>\n",
       "    </tr>\n",
       "    <tr>\n",
       "      <th>2</th>\n",
       "      <td>YTNSO047</td>\n",
       "      <td>http://www.ytn.co.kr/_ln/0103_201801051649222977</td>\n",
       "      <td>참여연대 `다스 실소유주 밝힐 단서` 검찰에 문건 제출</td>\n",
       "      <td>YTN</td>\n",
       "      <td>사회</td>\n",
       "      <td>20180105</td>\n",
       "      <td>5</td>\n",
       "      <td>검찰의 다스 전담수사팀은 이에 대해 비자금 의혹을 밝히는 데 참고가 될지 검토하겠다...</td>\n",
       "      <td>완전직접인용형</td>\n",
       "      <td>다스,김재정,처남 김재정,제삼자,처남 김재정 씨,상속세,부품업체 다스,김재정 회장,...</td>\n",
       "      <td>SPK057</td>\n",
       "      <td>30대</td>\n",
       "      <td>남성</td>\n",
       "      <td>아나운서준비생</td>\n",
       "      <td>44100 Hz 16bit PCM</td>\n",
       "      <td>0.473</td>\n",
       "      <td>7.321</td>\n",
       "      <td>7.738</td>\n",
       "      <td>SPK057/SPK057YTNSO047/SPK057YTNSO047M005.wav</td>\n",
       "    </tr>\n",
       "    <tr>\n",
       "      <th>3</th>\n",
       "      <td>YTNSO047</td>\n",
       "      <td>http://www.ytn.co.kr/_ln/0103_201801051649222977</td>\n",
       "      <td>참여연대 `다스 실소유주 밝힐 단서` 검찰에 문건 제출</td>\n",
       "      <td>YTN</td>\n",
       "      <td>사회</td>\n",
       "      <td>20180105</td>\n",
       "      <td>2</td>\n",
       "      <td>`고 김재정 회장 상속세 관련`이라는 제목의 문건은, 다스의 최대 주주였던 이명박 ...</td>\n",
       "      <td>요약형</td>\n",
       "      <td>다스,김재정,처남 김재정,제삼자,처남 김재정 씨,상속세,부품업체 다스,김재정 회장,...</td>\n",
       "      <td>SPK057</td>\n",
       "      <td>30대</td>\n",
       "      <td>남성</td>\n",
       "      <td>아나운서준비생</td>\n",
       "      <td>44100 Hz 16bit PCM</td>\n",
       "      <td>0.499</td>\n",
       "      <td>11.527</td>\n",
       "      <td>11.938</td>\n",
       "      <td>SPK057/SPK057YTNSO047/SPK057YTNSO047M002.wav</td>\n",
       "    </tr>\n",
       "    <tr>\n",
       "      <th>4</th>\n",
       "      <td>YTNSO047</td>\n",
       "      <td>http://www.ytn.co.kr/_ln/0103_201801051649222977</td>\n",
       "      <td>참여연대 `다스 실소유주 밝힐 단서` 검찰에 문건 제출</td>\n",
       "      <td>YTN</td>\n",
       "      <td>사회</td>\n",
       "      <td>20180105</td>\n",
       "      <td>4</td>\n",
       "      <td>참여연대는 해당 문건이 최대주주 고 김재정 씨의 상속인인 권 모 씨를 위한 방법이 ...</td>\n",
       "      <td>작문형</td>\n",
       "      <td>다스,김재정,처남 김재정,제삼자,처남 김재정 씨,상속세,부품업체 다스,김재정 회장,...</td>\n",
       "      <td>SPK057</td>\n",
       "      <td>30대</td>\n",
       "      <td>남성</td>\n",
       "      <td>아나운서준비생</td>\n",
       "      <td>44100 Hz 16bit PCM</td>\n",
       "      <td>0.412</td>\n",
       "      <td>14.387</td>\n",
       "      <td>14.788</td>\n",
       "      <td>SPK057/SPK057YTNSO047/SPK057YTNSO047M004.wav</td>\n",
       "    </tr>\n",
       "  </tbody>\n",
       "</table>\n",
       "</div>"
      ],
      "text/plain": [
       "  script.id                                        script.url  \\\n",
       "0  YTNSO047  http://www.ytn.co.kr/_ln/0103_201801051649222977   \n",
       "1  YTNSO047  http://www.ytn.co.kr/_ln/0103_201801051649222977   \n",
       "2  YTNSO047  http://www.ytn.co.kr/_ln/0103_201801051649222977   \n",
       "3  YTNSO047  http://www.ytn.co.kr/_ln/0103_201801051649222977   \n",
       "4  YTNSO047  http://www.ytn.co.kr/_ln/0103_201801051649222977   \n",
       "\n",
       "                     script.title script.press script.press_field  \\\n",
       "0  참여연대 `다스 실소유주 밝힐 단서` 검찰에 문건 제출          YTN                 사회   \n",
       "1  참여연대 `다스 실소유주 밝힐 단서` 검찰에 문건 제출          YTN                 사회   \n",
       "2  참여연대 `다스 실소유주 밝힐 단서` 검찰에 문건 제출          YTN                 사회   \n",
       "3  참여연대 `다스 실소유주 밝힐 단서` 검찰에 문건 제출          YTN                 사회   \n",
       "4  참여연대 `다스 실소유주 밝힐 단서` 검찰에 문건 제출          YTN                 사회   \n",
       "\n",
       "  script.press_date  script.index  \\\n",
       "0          20180105             1   \n",
       "1          20180105             3   \n",
       "2          20180105             5   \n",
       "3          20180105             2   \n",
       "4          20180105             4   \n",
       "\n",
       "                                         script.text script.sentence_type  \\\n",
       "0  앞서 자동차 부품업체 다스의 비자금 조성 의혹을 검찰에 고발한 참여연대가, 다스의 ...                  작문형   \n",
       "1  이 문건에는 김재정 씨 재산에 대한 여러 상속 방법을 가정해 분석해 놓은 내용이 담...                  작문형   \n",
       "2  검찰의 다스 전담수사팀은 이에 대해 비자금 의혹을 밝히는 데 참고가 될지 검토하겠다...              완전직접인용형   \n",
       "3  `고 김재정 회장 상속세 관련`이라는 제목의 문건은, 다스의 최대 주주였던 이명박 ...                  요약형   \n",
       "4  참여연대는 해당 문건이 최대주주 고 김재정 씨의 상속인인 권 모 씨를 위한 방법이 ...                  작문형   \n",
       "\n",
       "                                      script.keyword speaker.id speaker.age  \\\n",
       "0  다스,김재정,처남 김재정,제삼자,처남 김재정 씨,상속세,부품업체 다스,김재정 회장,...     SPK057         30대   \n",
       "1  다스,김재정,처남 김재정,제삼자,처남 김재정 씨,상속세,부품업체 다스,김재정 회장,...     SPK057         30대   \n",
       "2  다스,김재정,처남 김재정,제삼자,처남 김재정 씨,상속세,부품업체 다스,김재정 회장,...     SPK057         30대   \n",
       "3  다스,김재정,처남 김재정,제삼자,처남 김재정 씨,상속세,부품업체 다스,김재정 회장,...     SPK057         30대   \n",
       "4  다스,김재정,처남 김재정,제삼자,처남 김재정 씨,상속세,부품업체 다스,김재정 회장,...     SPK057         30대   \n",
       "\n",
       "  speaker.sex speaker.job file_information.audio_format  \\\n",
       "0          남성     아나운서준비생            44100 Hz 16bit PCM   \n",
       "1          남성     아나운서준비생            44100 Hz 16bit PCM   \n",
       "2          남성     아나운서준비생            44100 Hz 16bit PCM   \n",
       "3          남성     아나운서준비생            44100 Hz 16bit PCM   \n",
       "4          남성     아나운서준비생            44100 Hz 16bit PCM   \n",
       "\n",
       "  file_information.utterance_start file_information.utterance_end  \\\n",
       "0                            0.436                         11.464   \n",
       "1                            0.440                          6.504   \n",
       "2                            0.473                          7.321   \n",
       "3                            0.499                         11.527   \n",
       "4                            0.412                         14.387   \n",
       "\n",
       "  file_information.audio_duration  \\\n",
       "0                          11.938   \n",
       "1                           6.988   \n",
       "2                           7.738   \n",
       "3                          11.938   \n",
       "4                          14.788   \n",
       "\n",
       "                                      soundpath  \n",
       "0  SPK057/SPK057YTNSO047/SPK057YTNSO047M001.wav  \n",
       "1  SPK057/SPK057YTNSO047/SPK057YTNSO047M003.wav  \n",
       "2  SPK057/SPK057YTNSO047/SPK057YTNSO047M005.wav  \n",
       "3  SPK057/SPK057YTNSO047/SPK057YTNSO047M002.wav  \n",
       "4  SPK057/SPK057YTNSO047/SPK057YTNSO047M004.wav  "
      ]
     },
     "execution_count": 5,
     "metadata": {},
     "output_type": "execute_result"
    }
   ],
   "source": [
    "merged_df.head()"
   ]
  },
  {
   "cell_type": "code",
   "execution_count": 6,
   "id": "bcc9e5ee",
   "metadata": {},
   "outputs": [],
   "source": [
    "merged_df.to_pickle('./data/announcer/labeling/merged.pickle')"
   ]
  },
  {
   "cell_type": "code",
   "execution_count": 7,
   "id": "749fe6b9",
   "metadata": {},
   "outputs": [
    {
     "name": "stdout",
     "output_type": "stream",
     "text": [
      "<class 'pandas.core.frame.DataFrame'>\n",
      "RangeIndex: 35126 entries, 0 to 35125\n",
      "Data columns (total 19 columns):\n",
      " #   Column                            Non-Null Count  Dtype \n",
      "---  ------                            --------------  ----- \n",
      " 0   script.id                         35126 non-null  object\n",
      " 1   script.url                        35126 non-null  object\n",
      " 2   script.title                      35126 non-null  object\n",
      " 3   script.press                      35126 non-null  object\n",
      " 4   script.press_field                35126 non-null  object\n",
      " 5   script.press_date                 35126 non-null  object\n",
      " 6   script.index                      35126 non-null  int64 \n",
      " 7   script.text                       35126 non-null  object\n",
      " 8   script.sentence_type              35126 non-null  object\n",
      " 9   script.keyword                    35126 non-null  object\n",
      " 10  speaker.id                        35126 non-null  object\n",
      " 11  speaker.age                       35126 non-null  object\n",
      " 12  speaker.sex                       35126 non-null  object\n",
      " 13  speaker.job                       35126 non-null  object\n",
      " 14  file_information.audio_format     35126 non-null  object\n",
      " 15  file_information.utterance_start  35126 non-null  object\n",
      " 16  file_information.utterance_end    35126 non-null  object\n",
      " 17  file_information.audio_duration   35126 non-null  object\n",
      " 18  soundpath                         35126 non-null  object\n",
      "dtypes: int64(1), object(18)\n",
      "memory usage: 5.1+ MB\n"
     ]
    }
   ],
   "source": [
    "merged_df.info()"
   ]
  },
  {
   "cell_type": "code",
   "execution_count": 8,
   "id": "2bdd75a4",
   "metadata": {},
   "outputs": [
    {
     "data": {
      "text/html": [
       "<div>\n",
       "<style scoped>\n",
       "    .dataframe tbody tr th:only-of-type {\n",
       "        vertical-align: middle;\n",
       "    }\n",
       "\n",
       "    .dataframe tbody tr th {\n",
       "        vertical-align: top;\n",
       "    }\n",
       "\n",
       "    .dataframe thead th {\n",
       "        text-align: right;\n",
       "    }\n",
       "</style>\n",
       "<table border=\"1\" class=\"dataframe\">\n",
       "  <thead>\n",
       "    <tr style=\"text-align: right;\">\n",
       "      <th>speaker.age</th>\n",
       "      <th>20대</th>\n",
       "      <th>30대</th>\n",
       "      <th>40대</th>\n",
       "      <th>50대</th>\n",
       "      <th>60대</th>\n",
       "    </tr>\n",
       "    <tr>\n",
       "      <th>speaker.job</th>\n",
       "      <th></th>\n",
       "      <th></th>\n",
       "      <th></th>\n",
       "      <th></th>\n",
       "      <th></th>\n",
       "    </tr>\n",
       "  </thead>\n",
       "  <tbody>\n",
       "    <tr>\n",
       "      <th>아나운서준비생</th>\n",
       "      <td>12664</td>\n",
       "      <td>2524</td>\n",
       "      <td>0</td>\n",
       "      <td>0</td>\n",
       "      <td>0</td>\n",
       "    </tr>\n",
       "    <tr>\n",
       "      <th>전직아나운서</th>\n",
       "      <td>315</td>\n",
       "      <td>2826</td>\n",
       "      <td>1796</td>\n",
       "      <td>361</td>\n",
       "      <td>0</td>\n",
       "    </tr>\n",
       "    <tr>\n",
       "      <th>현직아나운서</th>\n",
       "      <td>2807</td>\n",
       "      <td>8355</td>\n",
       "      <td>2909</td>\n",
       "      <td>0</td>\n",
       "      <td>569</td>\n",
       "    </tr>\n",
       "  </tbody>\n",
       "</table>\n",
       "</div>"
      ],
      "text/plain": [
       "speaker.age    20대   30대   40대  50대  60대\n",
       "speaker.job                             \n",
       "아나운서준비생      12664  2524     0    0    0\n",
       "전직아나운서         315  2826  1796  361    0\n",
       "현직아나운서        2807  8355  2909    0  569"
      ]
     },
     "execution_count": 8,
     "metadata": {},
     "output_type": "execute_result"
    }
   ],
   "source": [
    "pd.crosstab(merged_df['speaker.job'], merged_df['speaker.age'])"
   ]
  },
  {
   "cell_type": "code",
   "execution_count": 9,
   "id": "1aea5ace",
   "metadata": {},
   "outputs": [
    {
     "data": {
      "text/plain": [
       "file_information.audio_format\n",
       "44100 Hz 16bit PCM    35126\n",
       "Name: count, dtype: int64"
      ]
     },
     "execution_count": 9,
     "metadata": {},
     "output_type": "execute_result"
    }
   ],
   "source": [
    "merged_df['file_information.audio_format'].value_counts()"
   ]
  },
  {
   "cell_type": "code",
   "execution_count": 10,
   "id": "e7c8983e",
   "metadata": {},
   "outputs": [],
   "source": [
    "import re\n",
    "from collections import Counter"
   ]
  },
  {
   "cell_type": "code",
   "execution_count": 11,
   "id": "dbe4a339",
   "metadata": {},
   "outputs": [],
   "source": [
    "def count_special_characters(text):\n",
    "    \"\"\"\n",
    "    주어진 텍스트에서 특수문자(알파벳, 숫자, 밑줄, 공백 제외)를 찾아 개수를 Counter 객체로 반환합니다.\n",
    "    \"\"\"\n",
    "    # [^\\w\\s] : \\w (단어문자; 유니코드 모드에서는 한글도 포함)와 \\s (공백 문자)를 제외한 모든 문자\n",
    "    specials = re.findall(r'[^\\w\\s]', text)\n",
    "    return Counter(specials)\n",
    "\n",
    "def count_special_characters_in_dataframe(df, text_column='text'):\n",
    "    \"\"\"\n",
    "    DataFrame의 지정된 text_column에 있는 모든 텍스트에서 특수문자를 추출하여,\n",
    "    전체 특수문자 종류와 개수를 딕셔너리 형태로 반환합니다.\n",
    "    \"\"\"\n",
    "    total_counts = Counter()\n",
    "    # 결측치를 제외하고 순회\n",
    "    for text in tqdm(df[text_column].dropna()):\n",
    "        total_counts += count_special_characters(text)\n",
    "    return dict(total_counts)"
   ]
  },
  {
   "cell_type": "code",
   "execution_count": 12,
   "id": "7d7a31cd",
   "metadata": {},
   "outputs": [
    {
     "name": "stderr",
     "output_type": "stream",
     "text": [
      "100%|██████████| 35126/35126 [00:00<00:00, 286808.86it/s]"
     ]
    },
    {
     "name": "stdout",
     "output_type": "stream",
     "text": [
      "특수문자 개수 집계:\n",
      "',': 19144\n",
      "'(': 72202\n",
      "')': 72202\n",
      "'/': 36111\n",
      "'.': 36517\n",
      "'`': 7314\n",
      "''': 4473\n",
      "'?': 123\n",
      "'%': 1983\n",
      "'㎡': 38\n",
      "'-': 231\n",
      "'~': 311\n",
      "'∼': 37\n",
      "':': 10\n",
      "'㎜': 3\n",
      "'±': 5\n",
      "'​': 6\n",
      "'+': 9\n",
      "'·': 10\n",
      "'㎞': 9\n",
      "'％': 48\n",
      "'㎝': 8\n",
      "'㎖': 5\n",
      "'㎢': 7\n",
      "'㎥': 1\n",
      "'&': 3\n",
      "'℃': 4\n"
     ]
    },
    {
     "name": "stderr",
     "output_type": "stream",
     "text": [
      "\n"
     ]
    }
   ],
   "source": [
    "special_char_counts = count_special_characters_in_dataframe(merged_df, text_column='script.text')\n",
    "print(\"특수문자 개수 집계:\")\n",
    "for char, count in special_char_counts.items():\n",
    "    print(f\"'{char}': {count}\")"
   ]
  },
  {
   "cell_type": "code",
   "execution_count": 13,
   "id": "6f4be9b6",
   "metadata": {},
   "outputs": [
    {
     "name": "stderr",
     "output_type": "stream",
     "text": [
      "100%|██████████| 35126/35126 [00:00<00:00, 478591.48it/s]"
     ]
    },
    {
     "name": "stdout",
     "output_type": "stream",
     "text": [
      "특수문자 '('가 포함된 문장: 박근혜 전 대통령에 대한 (1)/(일) 심 선고도 올해 초를 넘기지 않을 거란 전망이 우세합니다.\n",
      "특수문자 ','가 포함된 문장: 일본 정부 관계자로 축사를 한 고쿠바 고노스케 외무성 정무관은 '일본과 한국은 서로 중요한 이웃 나라' 라며 '지역의 어려운 안보 환경 속에서, 북한 문제를 비롯한 여러 과제에서 한일 간 협력이 불가결하다' 고 언급했습니다.\n",
      "특수문자 '/'가 포함된 문장: 유은혜 사회부총리 겸 교육부 장관은 개학을 연기하는 유치원이 현재 전국에 (164)/(백 육십 네) 곳인 것으로 확인됐다고 밝혔습니다.\n",
      "특수문자 ')'가 포함된 문장: 반면에 (30~39)/(삼십 에서 삼십 구) 세의 비중은 같은 기간 (24%)/(이십 사 퍼센트) 에서 (19%)/(십 구 퍼센트) 로 줄었고, (40~49)/(사십 에서 사십 구) 세의 비중도 소폭 감소했습니다.\n",
      "특수문자 '.'가 포함된 문장: 중앙방역대책본부는 오늘 (0)/(영) 시부터 방역강화 대상국가에서 입국한 사람은 입국 후 (3)/(삼) 일 이내에 한 번, 격리 후 (13)/(십 삼) 일 째 한 번 등 두 차례 진단 검사를 실시하기로 했다고 밝혔습니다.\n",
      "특수문자 '`'가 포함된 문장: 최근에는 양승태 전 대법원장 측이 검찰의 `언론 플레이`로 재판 전부터 낙인이 찍혔다고 호소하기도 했습니다.\n",
      "특수문자 '''가 포함된 문장: 두테르테 대통령의 발언에 대해 사라 시장 측은 '노 코멘트' 라며 입장을 밝히지 않았다고 방송은 전했습니다.\n",
      "특수문자 '?'가 포함된 문장: 불철주야 언제나 고생하는 경찰관들에게 칭찬이라는 선물을 준 우리 아이들, 어른들을 응원해주는 기분 좋은 소식이죠?\n",
      "특수문자 '%'가 포함된 문장: 이와 함께 시진핑 주석을 신뢰하지 않는다고 답한 사람은 (77%)/(칠십 칠 퍼센트) 에 이르렀는데 이 수치는 지난해보다 (27%)/(이십 칠 퍼센트) 포인트 높아진 것입니다.\n",
      "특수문자 '㎡'가 포함된 문장: 노동신문은 지난 (7)/(칠) 일 당의 수도건설 구상에 따라 만 세대 살림집 건설이 추진되는 가운데 대평지구에 추가로 단지 조성이 진행되고 있다고 보도하며, 수만 (㎡)/(제곱미터) 규모의 지대 정리가 이뤄졌고 고층 건물들이 속속 들어서고 있다고 전했습니다.\n",
      "특수문자 '-'가 포함된 문장: 특히 목요일에는 서울 아침 기온이 무려 (-12)/(마이너스 십 이) 도 까지 떨어지겠습니다.\n",
      "특수문자 '~'가 포함된 문장: 서울과 대전의 낮 기온이 (30)/(삼십) 도, 대구 (31)/(삼십 일) 도까지 올라 어제보다 (2~3)/(이 에서 삼) 도가량 높겠고요.\n",
      "특수문자 '∼'가 포함된 문장: 환자 (1)/(한) 명이 직접 감염시킬 수 있는 사람의 수를 뜻하는 재생산지수는 현재 (0.7∼0.9)/(영 점 칠에서 영 점 구)이지만 (9)/(구) 월부터는 (1.7)/(일 점 칠) 로 상승할 수 있다고 우려했습니다.\n",
      "특수문자 ':'가 포함된 문장: 지난해 (12)/(십 이) 월 개봉한 `스파이더맨: 노 웨이 홈`도 개봉 이틀째 누적 관객이 (100)/(백) 만 명을 넘었으나 첫날 관객수는 (63)/(육십 삼) 만여 명이었습니다.\n",
      "특수문자 '㎜'가 포함된 문장: 더불어민주당 김진표 의원은 오늘 합동참모본부 국정감사에서 합참의 (ROC)/(알 오 씨) 는 (800m)/(팔백 미터) 유효 사거리에서 탄환이 (3.43㎜)/(삼 점 사 삼 밀리미터) 연강판을 관통해야 합격이지만, 운동 에너지와 탄환 속도가 예상대로 나왔는데도 연강판을 관통하지 못했다고 밝혔습니다.\n",
      "특수문자 '±'가 포함된 문장: 이번 조사는 지난 (6)/(육) 일부터 닷새 동안 전국 (18)/(십 팔) 세 이상 유권자 (2,515)/(이천 오백 쉰 다섯) 명을 대상으로 실시됐으며, 표본오차는 (95%)/(구십 오 퍼센트) 신뢰 수준에서 (±2%)/(플러스마이너스 이 퍼센트) 포인트입니다.\n",
      "특수문자 '​'가 포함된 문장: ​`말년` 이라며 수시로 부대를 무단이탈한 것으로 드러났습니다.\n",
      "특수문자 '+'가 포함된 문장: 대장동 개발사업처럼 공영개발방식을 취하기로 해 성남도시개발공사가 (50%+1)/(오십 퍼센트 플러스 한) 주, 민간사업자가 (50%-1)/(오십 퍼센트 마이너스 한) 주의 지분율로 참여하게 됩니다.\n",
      "특수문자 '·'가 포함된 문장: 항소심 재판부는 해당 의료기록이 대리수술 혐의를 입증하기 위해 가장 적절한 수단으로 보인다며, 침해된 법익보다 대리수술을 방지함으로써 보호되는 사람들의 생명·신체에 관한 법익이 더 우월하다며 선고 이유를 설명했습니다.\n",
      "특수문자 '㎞'가 포함된 문장: 톈궁 (1)/(일) 호는 지구 중력 때문에 매일 (1)/(일) , (2㎞)/(이 킬로미터) 씩 지구로 하강하고 있으며 지난해 (3)/(삼) 월에는 고도 (348.3km)/(삼백 사십 팔 점 삼 킬로미터) 에 있었지만, (9)/(구) 개월 만인 지난달 (24)/(이십 사) 일에는 고도 (286.5km)/(이백 팔십 육 점 오 킬로미터) 까지 내려왔습니다.\n",
      "특수문자 '％'가 포함된 문장: 연세대 수시 미등록 인원은 (297)/(이백 구십 칠) 명으로 지난 학년도보다 (15％)/(십 오 퍼센트) 줄었고 고려대는 (190)/(백 구십) 명으로 (34%)/(삼십 사 퍼센트) 늘었습니다.\n",
      "특수문자 '㎝'가 포함된 문장: 또 강선이 들어가는 상부 판의 두께가 (30㎝)/(삼십 센티미터) 로 얇아 철근을 보강하는 데 어려움이 있었습니다.\n",
      "특수문자 '㎖'가 포함된 문장: 투약은 (5)/(오) 일간 (10㎖)/(십 밀리리터) 주사약 (6)/(여섯) 병이 원칙으로, 필요한 경우 투약 기간을 (5)/(오) 일 더 연장할 수 있습니다.\n",
      "특수문자 '㎢'가 포함된 문장: 유네스코 집행이사회가 인증한 한탄강 세계지질공원은 여의도 면적의 (4)/(사) 백 배에 달하는 (1,165㎢)/(천 백 육십 오 제곱킬로미터) .\n",
      "특수문자 '㎥'가 포함된 문장: (CCTV)/(씨 씨 티 브이) 는 그러나 양쯔강 상류에서 싼샤댐으로 들어오는 수량이 어제 오전 (8)/(여덟) 시 초당 (6)/(육) 만 천 (㎥)/(세제곱미터) 를 정점으로 점차 감소하고 있다고 전했습니다.\n",
      "특수문자 '&'가 포함된 문장: (SBS)/(에스 비 에스) 는 올 초 단체협약 개정 협상에서 (SBS)/(에스 비 에스) 와 (SBS A&T)/(에스 비 에스 에이 앤 티) 사장, 보도 책임자의 임명동의제를 폐기하겠다고 밝혔고, 전국언론노동조합 (SBS)/(에스 비 에스) 본부가 이에 반발하자 지난 (2)/(이) 일 단협 해지를 통보했습니다.\n",
      "특수문자 '℃'가 포함된 문장: 인플루엔자 의사 환자는 (38℃ )/(삼십 팔 도) 이상의 갑작스러운 발열과 함께 기침이나 인후통을 보이는 사람을 말합니다.\n"
     ]
    },
    {
     "name": "stderr",
     "output_type": "stream",
     "text": [
      "\n"
     ]
    }
   ],
   "source": [
    "import random\n",
    "spec_to_sentences = defaultdict(list)\n",
    "\n",
    "for text in tqdm(merged_df['script.text'].dropna()):\n",
    "    specs = re.findall(r'[^\\w\\s]', text)\n",
    "    # 같은 문장 내에서도 중복된 특수문자 대신 한번만 기록하도록 set 사용\n",
    "    for spec in set(specs):\n",
    "        spec_to_sentences[spec].append(text)\n",
    "\n",
    "result = {}\n",
    "for spec, sentences in spec_to_sentences.items():\n",
    "    result[spec] = random.choice(sentences)\n",
    "    \n",
    "for spec, sentence in result.items():\n",
    "    print(f\"특수문자 '{spec}'가 포함된 문장: {sentence}\")"
   ]
  },
  {
   "cell_type": "code",
   "execution_count": 14,
   "id": "89f70df5",
   "metadata": {},
   "outputs": [],
   "source": [
    "def transform_func(text: str) -> str:\n",
    "    pattern = r'\\((.*?)\\)/\\((.*?)\\)'\n",
    "    transformed_text = re.sub(pattern, r'\\2', text)\n",
    "    transformed_text = re.sub(r\"[:'`]\", \"\", transformed_text)\n",
    "    transformed_text = re.sub(r\"[·]\", \" \", transformed_text)\n",
    "    return transformed_text"
   ]
  },
  {
   "cell_type": "code",
   "execution_count": 15,
   "id": "9f553bcf",
   "metadata": {},
   "outputs": [
    {
     "data": {
      "text/plain": [
       "'이번 회의에서는 이천 십 칠 년도 생명 신체 데이터를 중점적으로 다룹니다.'"
      ]
     },
     "execution_count": 15,
     "metadata": {},
     "output_type": "execute_result"
    }
   ],
   "source": [
    "transform_func(\"이번 회의에서는 (2017)/(이천 십 칠) 년도 생명·신체 데이터를 중점적으로 다룹니다.\")"
   ]
  },
  {
   "cell_type": "code",
   "execution_count": 16,
   "id": "cc73395f",
   "metadata": {},
   "outputs": [],
   "source": [
    "merged_df['script.text.transformed'] = merged_df['script.text'].apply(transform_func)"
   ]
  },
  {
   "cell_type": "code",
   "execution_count": 17,
   "id": "ac4a0871",
   "metadata": {},
   "outputs": [
    {
     "name": "stderr",
     "output_type": "stream",
     "text": [
      "100%|██████████| 35126/35126 [00:00<00:00, 421627.00it/s]"
     ]
    },
    {
     "name": "stdout",
     "output_type": "stream",
     "text": [
      "특수문자 개수 집계:\n",
      "',': 18620\n",
      "'.': 34910\n",
      "'?': 123\n",
      "'​': 6\n"
     ]
    },
    {
     "name": "stderr",
     "output_type": "stream",
     "text": [
      "\n"
     ]
    }
   ],
   "source": [
    "special_char_counts = count_special_characters_in_dataframe(merged_df, text_column='script.text.transformed')\n",
    "print(\"특수문자 개수 집계:\")\n",
    "for char, count in special_char_counts.items():\n",
    "    print(f\"'{char}': {count}\")"
   ]
  },
  {
   "cell_type": "code",
   "execution_count": 18,
   "id": "e293506d",
   "metadata": {},
   "outputs": [
    {
     "name": "stderr",
     "output_type": "stream",
     "text": [
      "100%|██████████| 35126/35126 [00:00<00:00, 671084.05it/s]"
     ]
    },
    {
     "name": "stdout",
     "output_type": "stream",
     "text": [
      "특수문자 '.'가 포함된 문장: 증강현실로 안내해설을 보고 들을 수 있는 장소는 명승인 북악산 내 만세동방과 촛대바위 쉼터, 일 이 일 사태 때 총탄을 맞은 소나무, 옛 군견 훈련터, 법흥사터, 청와대 헬기장 등 열 곳입니다.\n",
      "특수문자 ','가 포함된 문장: 이후 검거하지 못하던 경찰은 공소시효를 폐지하도록 개정된 일명 태완이법에 따라 재수사를 시작해 맥주병에 남은 쪽지문을 최신기술로 분석했고, 지난 육 월 장 씨를 붙잡아 범행 사실을 자백받았습니다.\n",
      "특수문자 '?'가 포함된 문장: 부처 간 이견이 없다는 게 법무부의 설명이었는데요, 청와대의 입장은 다르군요?\n",
      "특수문자 '​'가 포함된 문장: 미군부대에서 근무하는 카투사 병장 다섯 명이 ​군사재판에 회부됐는데요.\n"
     ]
    },
    {
     "name": "stderr",
     "output_type": "stream",
     "text": [
      "\n"
     ]
    }
   ],
   "source": [
    "import random\n",
    "spec_to_sentences = defaultdict(list)\n",
    "\n",
    "for text in tqdm(merged_df['script.text.transformed'].dropna()):\n",
    "    specs = re.findall(r'[^\\w\\s]', text)\n",
    "    # 같은 문장 내에서도 중복된 특수문자 대신 한번만 기록하도록 set 사용\n",
    "    for spec in set(specs):\n",
    "        spec_to_sentences[spec].append(text)\n",
    "\n",
    "result = {}\n",
    "for spec, sentences in spec_to_sentences.items():\n",
    "    result[spec] = random.choice(sentences)\n",
    "    \n",
    "for spec, sentence in result.items():\n",
    "    print(f\"특수문자 '{spec}'가 포함된 문장: {sentence}\")"
   ]
  },
  {
   "cell_type": "code",
   "execution_count": 19,
   "id": "b76cedc5",
   "metadata": {},
   "outputs": [],
   "source": [
    "def convert_ipa(item):\n",
    "    return convert(item, rules_to_apply='pastcnovr')['result_array']"
   ]
  },
  {
   "cell_type": "code",
   "execution_count": 20,
   "id": "c95376b6",
   "metadata": {},
   "outputs": [
    {
     "name": "stderr",
     "output_type": "stream",
     "text": [
      "100%|██████████| 35126/35126 [01:22<00:00, 426.85it/s]\n"
     ]
    }
   ],
   "source": [
    "res = []\n",
    "res_list = []\n",
    "for v in tqdm(merged_df['script.text.transformed']):\n",
    "    con = convert(v, rules_to_apply='pastcnovr')\n",
    "    res.append(con['result'])\n",
    "    res_list.append(con['result_array'])\n",
    "merged_df['script.text.ipa'] = res\n",
    "merged_df['script.text.ipa_array'] = res_list"
   ]
  },
  {
   "cell_type": "code",
   "execution_count": null,
   "id": "d4ce41fa",
   "metadata": {},
   "outputs": [],
   "source": [
    "new_df = merged_df[['soundpath', 'script.text.ipa', 'script.text.ipa_array', 'script.text.transformed']]"
   ]
  },
  {
   "cell_type": "code",
   "execution_count": 22,
   "id": "05bc6adf",
   "metadata": {},
   "outputs": [
    {
     "data": {
      "text/html": [
       "<div>\n",
       "<style scoped>\n",
       "    .dataframe tbody tr th:only-of-type {\n",
       "        vertical-align: middle;\n",
       "    }\n",
       "\n",
       "    .dataframe tbody tr th {\n",
       "        vertical-align: top;\n",
       "    }\n",
       "\n",
       "    .dataframe thead th {\n",
       "        text-align: right;\n",
       "    }\n",
       "</style>\n",
       "<table border=\"1\" class=\"dataframe\">\n",
       "  <thead>\n",
       "    <tr style=\"text-align: right;\">\n",
       "      <th></th>\n",
       "      <th>soundpath</th>\n",
       "      <th>script.text.ipa</th>\n",
       "      <th>script.text.ipa_array</th>\n",
       "      <th>script.text.transformed</th>\n",
       "    </tr>\n",
       "  </thead>\n",
       "  <tbody>\n",
       "    <tr>\n",
       "      <th>0</th>\n",
       "      <td>SPK057/SPK057YTNSO047/SPK057YTNSO047M001.wav</td>\n",
       "      <td>ɑps*ʌ dʑɑdoŋtɕʰɑ bupʰumʌptɕʰɛ dɑsɯɰi bidʑɑɡɯm ...</td>\n",
       "      <td>[ɑ, p, s*, ʌ,  , dʑ, ɑ, d, o, ŋ, tɕʰ, ɑ,  , b,...</td>\n",
       "      <td>앞서 자동차 부품업체 다스의 비자금 조성 의혹을 검찰에 고발한 참여연대가, 다스의 ...</td>\n",
       "    </tr>\n",
       "    <tr>\n",
       "      <th>1</th>\n",
       "      <td>SPK057/SPK057YTNSO047/SPK057YTNSO047M003.wav</td>\n",
       "      <td>i muŋɡʌnɛnɯŋ ɡimdʑɛdʑʌŋ s*i dʑɛsɑnɛ dɛhɑn jʌɾʌ...</td>\n",
       "      <td>[i,  , m, u, ŋ, ɡ, ʌ, n, ɛ, n, ɯ, ŋ,  , ɡ, i, ...</td>\n",
       "      <td>이 문건에는 김재정 씨 재산에 대한 여러 상속 방법을 가정해 분석해 놓은 내용이 담...</td>\n",
       "    </tr>\n",
       "    <tr>\n",
       "      <th>2</th>\n",
       "      <td>SPK057/SPK057YTNSO047/SPK057YTNSO047M005.wav</td>\n",
       "      <td>kʌmtɕʰɑɾɰi dɑsɯ dʑʌndɑmsusɑtʰimɯn iɛ dɛhɛ bidʑ...</td>\n",
       "      <td>[k, ʌ, m, tɕʰ, ɑ, ɾ, ɰi,  , d, ɑ, s, ɯ,  , dʑ,...</td>\n",
       "      <td>검찰의 다스 전담수사팀은 이에 대해 비자금 의혹을 밝히는 데 참고가 될지 검토하겠다...</td>\n",
       "    </tr>\n",
       "    <tr>\n",
       "      <th>3</th>\n",
       "      <td>SPK057/SPK057YTNSO047/SPK057YTNSO047M002.wav</td>\n",
       "      <td>ko ɡimdʑɛdʑʌŋ hwɛdʑɑŋ sɑŋsoks*ɛ ɡwalljʌniɾɑnɯn...</td>\n",
       "      <td>[k, o,  , ɡ, i, m, dʑ, ɛ, dʑ, ʌ, ŋ,  , h, wɛ, ...</td>\n",
       "      <td>고 김재정 회장 상속세 관련이라는 제목의 문건은, 다스의 최대 주주였던 이명박 전 ...</td>\n",
       "    </tr>\n",
       "    <tr>\n",
       "      <th>4</th>\n",
       "      <td>SPK057/SPK057YTNSO047/SPK057YTNSO047M004.wav</td>\n",
       "      <td>tɕʰɑmjʌjʌndɛnɯn hɛdɑŋ muŋɡʌni tɕʰwɛdɛdʑudʑu ɡo...</td>\n",
       "      <td>[tɕʰ, ɑ, m, jʌ, jʌ, n, d, ɛ, n, ɯ, n,  , h, ɛ,...</td>\n",
       "      <td>참여연대는 해당 문건이 최대주주 고 김재정 씨의 상속인인 권 모 씨를 위한 방법이 ...</td>\n",
       "    </tr>\n",
       "  </tbody>\n",
       "</table>\n",
       "</div>"
      ],
      "text/plain": [
       "                                      soundpath  \\\n",
       "0  SPK057/SPK057YTNSO047/SPK057YTNSO047M001.wav   \n",
       "1  SPK057/SPK057YTNSO047/SPK057YTNSO047M003.wav   \n",
       "2  SPK057/SPK057YTNSO047/SPK057YTNSO047M005.wav   \n",
       "3  SPK057/SPK057YTNSO047/SPK057YTNSO047M002.wav   \n",
       "4  SPK057/SPK057YTNSO047/SPK057YTNSO047M004.wav   \n",
       "\n",
       "                                     script.text.ipa  \\\n",
       "0  ɑps*ʌ dʑɑdoŋtɕʰɑ bupʰumʌptɕʰɛ dɑsɯɰi bidʑɑɡɯm ...   \n",
       "1  i muŋɡʌnɛnɯŋ ɡimdʑɛdʑʌŋ s*i dʑɛsɑnɛ dɛhɑn jʌɾʌ...   \n",
       "2  kʌmtɕʰɑɾɰi dɑsɯ dʑʌndɑmsusɑtʰimɯn iɛ dɛhɛ bidʑ...   \n",
       "3  ko ɡimdʑɛdʑʌŋ hwɛdʑɑŋ sɑŋsoks*ɛ ɡwalljʌniɾɑnɯn...   \n",
       "4  tɕʰɑmjʌjʌndɛnɯn hɛdɑŋ muŋɡʌni tɕʰwɛdɛdʑudʑu ɡo...   \n",
       "\n",
       "                               script.text.ipa_array  \\\n",
       "0  [ɑ, p, s*, ʌ,  , dʑ, ɑ, d, o, ŋ, tɕʰ, ɑ,  , b,...   \n",
       "1  [i,  , m, u, ŋ, ɡ, ʌ, n, ɛ, n, ɯ, ŋ,  , ɡ, i, ...   \n",
       "2  [k, ʌ, m, tɕʰ, ɑ, ɾ, ɰi,  , d, ɑ, s, ɯ,  , dʑ,...   \n",
       "3  [k, o,  , ɡ, i, m, dʑ, ɛ, dʑ, ʌ, ŋ,  , h, wɛ, ...   \n",
       "4  [tɕʰ, ɑ, m, jʌ, jʌ, n, d, ɛ, n, ɯ, n,  , h, ɛ,...   \n",
       "\n",
       "                             script.text.transformed  \n",
       "0  앞서 자동차 부품업체 다스의 비자금 조성 의혹을 검찰에 고발한 참여연대가, 다스의 ...  \n",
       "1  이 문건에는 김재정 씨 재산에 대한 여러 상속 방법을 가정해 분석해 놓은 내용이 담...  \n",
       "2  검찰의 다스 전담수사팀은 이에 대해 비자금 의혹을 밝히는 데 참고가 될지 검토하겠다...  \n",
       "3  고 김재정 회장 상속세 관련이라는 제목의 문건은, 다스의 최대 주주였던 이명박 전 ...  \n",
       "4  참여연대는 해당 문건이 최대주주 고 김재정 씨의 상속인인 권 모 씨를 위한 방법이 ...  "
      ]
     },
     "execution_count": 22,
     "metadata": {},
     "output_type": "execute_result"
    }
   ],
   "source": [
    "new_df.head()"
   ]
  },
  {
   "cell_type": "code",
   "execution_count": 23,
   "id": "81a2ef46",
   "metadata": {},
   "outputs": [],
   "source": [
    "new_df.to_pickle('./data/announcer/labeling/preprocessed.pickle')"
   ]
  },
  {
   "cell_type": "code",
   "execution_count": 24,
   "id": "ac13234c",
   "metadata": {},
   "outputs": [],
   "source": [
    "from sklearn.model_selection import train_test_split"
   ]
  },
  {
   "cell_type": "code",
   "execution_count": 25,
   "id": "a5d3189f",
   "metadata": {},
   "outputs": [],
   "source": [
    "train_df, test_df = train_test_split(\n",
    "    new_df,\n",
    "    test_size=0.1,       # test set 비율 (또는 train_size=0.8 사용)\n",
    "    random_state=42,     # 재현성을 위한 시드\n",
    "    shuffle=True         # (기본값) 랜덤 셔플\n",
    ")"
   ]
  },
  {
   "cell_type": "code",
   "execution_count": 26,
   "id": "655413cf",
   "metadata": {},
   "outputs": [],
   "source": [
    "train_df.to_pickle('./data/announcer/labeling/preprocessed_train.pickle')\n",
    "test_df.to_pickle('./data/announcer/labeling/preprocessed_test.pickle')"
   ]
  },
  {
   "cell_type": "code",
   "execution_count": null,
   "id": "6052b409",
   "metadata": {},
   "outputs": [],
   "source": []
  }
 ],
 "metadata": {
  "kernelspec": {
   "display_name": "base",
   "language": "python",
   "name": "python3"
  },
  "language_info": {
   "codemirror_mode": {
    "name": "ipython",
    "version": 3
   },
   "file_extension": ".py",
   "mimetype": "text/x-python",
   "name": "python",
   "nbconvert_exporter": "python",
   "pygments_lexer": "ipython3",
   "version": "3.12.4"
  }
 },
 "nbformat": 4,
 "nbformat_minor": 5
}
