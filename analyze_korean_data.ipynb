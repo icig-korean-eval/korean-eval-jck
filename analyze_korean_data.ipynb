{
 "cells": [
  {
   "cell_type": "code",
   "execution_count": 1,
   "id": "9a9f08a4",
   "metadata": {},
   "outputs": [],
   "source": [
    "import glob\n",
    "import pandas as pd\n",
    "import json\n",
    "from tqdm import tqdm\n",
    "from ipa.src.worker import convert\n",
    "from collections import defaultdict"
   ]
  },
  {
   "cell_type": "code",
   "execution_count": 2,
   "id": "78c43794",
   "metadata": {},
   "outputs": [
    {
     "data": {
      "text/plain": [
       "628545"
      ]
     },
     "execution_count": 2,
     "metadata": {},
     "output_type": "execute_result"
    }
   ],
   "source": [
    "audio_paths = glob.glob('./data/korean/*/*/*.pcm')\n",
    "len(audio_paths)"
   ]
  },
  {
   "cell_type": "code",
   "execution_count": 3,
   "id": "2d3f649b",
   "metadata": {},
   "outputs": [
    {
     "data": {
      "text/plain": [
       "622545"
      ]
     },
     "execution_count": 3,
     "metadata": {},
     "output_type": "execute_result"
    }
   ],
   "source": [
    "label_paths = glob.glob('./data/korean/*/*/*.txt')\n",
    "len(label_paths)"
   ]
  },
  {
   "cell_type": "code",
   "execution_count": 4,
   "id": "d2e22b2e",
   "metadata": {},
   "outputs": [
    {
     "name": "stderr",
     "output_type": "stream",
     "text": [
      "100%|██████████| 622545/622545 [00:06<00:00, 92956.40it/s]\n"
     ]
    },
    {
     "name": "stdout",
     "output_type": "stream",
     "text": [
      "total len: 620800\terror count: 1745\n"
     ]
    }
   ],
   "source": [
    "df_list = defaultdict(list)\n",
    "error_count = 0\n",
    "for file in tqdm(label_paths):\n",
    "    try:\n",
    "        with open(file, 'r', encoding='euc-kr') as f:\n",
    "            data = f.read()\n",
    "    except:\n",
    "        error_count += 1\n",
    "        continue\n",
    "    df_list['audio_path'].append(file[:-3] + \"pcm\")\n",
    "    df_list['label_path'].append(file)\n",
    "    df_list['label'].append(data)\n",
    "merged_df = pd.DataFrame(df_list)\n",
    "print(f'total len: {len(merged_df)}\\terror count: {error_count}')"
   ]
  },
  {
   "cell_type": "code",
   "execution_count": 5,
   "id": "6c9d1567",
   "metadata": {},
   "outputs": [
    {
     "data": {
      "text/html": [
       "<div>\n",
       "<style scoped>\n",
       "    .dataframe tbody tr th:only-of-type {\n",
       "        vertical-align: middle;\n",
       "    }\n",
       "\n",
       "    .dataframe tbody tr th {\n",
       "        vertical-align: top;\n",
       "    }\n",
       "\n",
       "    .dataframe thead th {\n",
       "        text-align: right;\n",
       "    }\n",
       "</style>\n",
       "<table border=\"1\" class=\"dataframe\">\n",
       "  <thead>\n",
       "    <tr style=\"text-align: right;\">\n",
       "      <th></th>\n",
       "      <th>audio_path</th>\n",
       "      <th>label_path</th>\n",
       "      <th>label</th>\n",
       "    </tr>\n",
       "  </thead>\n",
       "  <tbody>\n",
       "    <tr>\n",
       "      <th>0</th>\n",
       "      <td>./data/korean/KsponSpeech_04/KsponSpeech_0373/...</td>\n",
       "      <td>./data/korean/KsponSpeech_04/KsponSpeech_0373/...</td>\n",
       "      <td>그렇게 되면 또 (2월)/(이 월)로 넘어가겠지.\\n</td>\n",
       "    </tr>\n",
       "    <tr>\n",
       "      <th>1</th>\n",
       "      <td>./data/korean/KsponSpeech_04/KsponSpeech_0373/...</td>\n",
       "      <td>./data/korean/KsponSpeech_04/KsponSpeech_0373/...</td>\n",
       "      <td>뭐/ 기아. 막/ 그런 사람들이 어떻게 더 좋게 살아갈 수 있을까. 이렇게 b/ 평...</td>\n",
       "    </tr>\n",
       "    <tr>\n",
       "      <th>2</th>\n",
       "      <td>./data/korean/KsponSpeech_04/KsponSpeech_0373/...</td>\n",
       "      <td>./data/korean/KsponSpeech_04/KsponSpeech_0373/...</td>\n",
       "      <td>중점적으로 하는 학원인데, b/ 그거를 해서 아이들이 공부하는 까. b/\\n</td>\n",
       "    </tr>\n",
       "    <tr>\n",
       "      <th>3</th>\n",
       "      <td>./data/korean/KsponSpeech_04/KsponSpeech_0373/...</td>\n",
       "      <td>./data/korean/KsponSpeech_04/KsponSpeech_0373/...</td>\n",
       "      <td>공단은 나도 잘 모르겠다. (4층)/(사 층)인가? n/ 아니 공단.\\n</td>\n",
       "    </tr>\n",
       "    <tr>\n",
       "      <th>4</th>\n",
       "      <td>./data/korean/KsponSpeech_04/KsponSpeech_0373/...</td>\n",
       "      <td>./data/korean/KsponSpeech_04/KsponSpeech_0373/...</td>\n",
       "      <td>n/ 아까 뭐 만들었는지 얘기해줬잖아.\\n</td>\n",
       "    </tr>\n",
       "  </tbody>\n",
       "</table>\n",
       "</div>"
      ],
      "text/plain": [
       "                                          audio_path  \\\n",
       "0  ./data/korean/KsponSpeech_04/KsponSpeech_0373/...   \n",
       "1  ./data/korean/KsponSpeech_04/KsponSpeech_0373/...   \n",
       "2  ./data/korean/KsponSpeech_04/KsponSpeech_0373/...   \n",
       "3  ./data/korean/KsponSpeech_04/KsponSpeech_0373/...   \n",
       "4  ./data/korean/KsponSpeech_04/KsponSpeech_0373/...   \n",
       "\n",
       "                                          label_path  \\\n",
       "0  ./data/korean/KsponSpeech_04/KsponSpeech_0373/...   \n",
       "1  ./data/korean/KsponSpeech_04/KsponSpeech_0373/...   \n",
       "2  ./data/korean/KsponSpeech_04/KsponSpeech_0373/...   \n",
       "3  ./data/korean/KsponSpeech_04/KsponSpeech_0373/...   \n",
       "4  ./data/korean/KsponSpeech_04/KsponSpeech_0373/...   \n",
       "\n",
       "                                               label  \n",
       "0                      그렇게 되면 또 (2월)/(이 월)로 넘어가겠지.\\n  \n",
       "1  뭐/ 기아. 막/ 그런 사람들이 어떻게 더 좋게 살아갈 수 있을까. 이렇게 b/ 평...  \n",
       "2         중점적으로 하는 학원인데, b/ 그거를 해서 아이들이 공부하는 까. b/\\n  \n",
       "3           공단은 나도 잘 모르겠다. (4층)/(사 층)인가? n/ 아니 공단.\\n  \n",
       "4                            n/ 아까 뭐 만들었는지 얘기해줬잖아.\\n  "
      ]
     },
     "execution_count": 5,
     "metadata": {},
     "output_type": "execute_result"
    }
   ],
   "source": [
    "merged_df.head()"
   ]
  },
  {
   "cell_type": "code",
   "execution_count": 6,
   "id": "bcc9e5ee",
   "metadata": {},
   "outputs": [],
   "source": [
    "merged_df.to_pickle('./data/korean/merged.pickle')"
   ]
  },
  {
   "cell_type": "code",
   "execution_count": 7,
   "id": "749fe6b9",
   "metadata": {},
   "outputs": [
    {
     "name": "stdout",
     "output_type": "stream",
     "text": [
      "<class 'pandas.core.frame.DataFrame'>\n",
      "RangeIndex: 620800 entries, 0 to 620799\n",
      "Data columns (total 3 columns):\n",
      " #   Column      Non-Null Count   Dtype \n",
      "---  ------      --------------   ----- \n",
      " 0   audio_path  620800 non-null  object\n",
      " 1   label_path  620800 non-null  object\n",
      " 2   label       620800 non-null  object\n",
      "dtypes: object(3)\n",
      "memory usage: 14.2+ MB\n"
     ]
    }
   ],
   "source": [
    "merged_df.info()"
   ]
  },
  {
   "cell_type": "code",
   "execution_count": 8,
   "id": "e7c8983e",
   "metadata": {},
   "outputs": [],
   "source": [
    "import re\n",
    "from collections import Counter"
   ]
  },
  {
   "cell_type": "code",
   "execution_count": 9,
   "id": "dbe4a339",
   "metadata": {},
   "outputs": [],
   "source": [
    "def count_special_characters(text):\n",
    "    \"\"\"\n",
    "    주어진 텍스트에서 특수문자(알파벳, 숫자, 밑줄, 공백 제외)를 찾아 개수를 Counter 객체로 반환합니다.\n",
    "    \"\"\"\n",
    "    # [^\\w\\s] : \\w (단어문자; 유니코드 모드에서는 한글도 포함)와 \\s (공백 문자)를 제외한 모든 문자\n",
    "    specials = re.findall(r'[^\\w\\s]', text)\n",
    "    return Counter(specials)\n",
    "\n",
    "def count_special_characters_in_dataframe(df, text_column='text'):\n",
    "    \"\"\"\n",
    "    DataFrame의 지정된 text_column에 있는 모든 텍스트에서 특수문자를 추출하여,\n",
    "    전체 특수문자 종류와 개수를 딕셔너리 형태로 반환합니다.\n",
    "    \"\"\"\n",
    "    total_counts = Counter()\n",
    "    # 결측치를 제외하고 순회\n",
    "    for text in tqdm(df[text_column].dropna()):\n",
    "        total_counts += count_special_characters(text)\n",
    "    return dict(total_counts)"
   ]
  },
  {
   "cell_type": "code",
   "execution_count": 10,
   "id": "7d7a31cd",
   "metadata": {},
   "outputs": [
    {
     "name": "stderr",
     "output_type": "stream",
     "text": [
      "100%|██████████| 620800/620800 [00:01<00:00, 395536.20it/s]"
     ]
    },
    {
     "name": "stdout",
     "output_type": "stream",
     "text": [
      "특수문자 개수 집계:\n",
      "'(': 177520\n",
      "')': 177520\n",
      "'/': 971355\n",
      "'.': 638976\n",
      "'+': 111375\n",
      "',': 152887\n",
      "'?': 234258\n",
      "'*': 65333\n",
      "'%': 475\n",
      "'!': 838\n",
      "'-': 29\n",
      "'&': 1\n",
      "':': 16\n",
      "'#': 1\n"
     ]
    },
    {
     "name": "stderr",
     "output_type": "stream",
     "text": [
      "\n"
     ]
    }
   ],
   "source": [
    "special_char_counts = count_special_characters_in_dataframe(merged_df, text_column='label')\n",
    "print(\"특수문자 개수 집계:\")\n",
    "for char, count in special_char_counts.items():\n",
    "    print(f\"'{char}': {count}\")"
   ]
  },
  {
   "cell_type": "code",
   "execution_count": 11,
   "id": "6f4be9b6",
   "metadata": {},
   "outputs": [
    {
     "name": "stderr",
     "output_type": "stream",
     "text": [
      "100%|██████████| 620800/620800 [00:00<00:00, 669604.47it/s]"
     ]
    },
    {
     "name": "stdout",
     "output_type": "stream",
     "text": [
      "특수문자 '.'가 포함된 문장: o/ 유럽.\n",
      "\n",
      "특수문자 '/'가 포함된 문장: 자파해*? l/\n",
      "\n",
      "특수문자 '('가 포함된 문장: 그러면 (1월)/(일 월) 후반쯤에 가야겠네? n/\n",
      "\n",
      "특수문자 ')'가 포함된 문장: o/ 아/ 나는 이투스 (2 4 7)/(이 사 칠)에 다니다 보니까 이투스 그게 꽁짜여가지고 b/\n",
      "\n",
      "특수문자 '+'가 포함된 문장: 요+ 맞다. 그어 딱 느꼈어. 한+ 하+ 한마디로 요약을 하면은 이젠 데이터에 시대다.\n",
      "\n",
      "특수문자 ','가 포함된 문장: b/ 야, l/ 그/ b/ 음악쌤 기억나? 멸치.\n",
      "\n",
      "특수문자 '?'가 포함된 문장: 왜?\n",
      "\n",
      "특수문자 '*'가 포함된 문장: n/ 그이까* 그/ 일본 갔을 때처럼 b/ 쪼그만 거 하나 뽑힐 거 같다고 (3만 원)/(삼만 원) 넣는 그런 행동만 하지 말자고*\n",
      "\n",
      "특수문자 '%'가 포함된 문장: b/ 그래서 아직 손발이 (100%)/(백 퍼센트) 안 맞는 느낌이었어.\n",
      "\n",
      "특수문자 '!'가 포함된 문장: o/ 아! 근데 좀 도움 되던데? 콤보 연계 이런 거 알려 주잖아.\n",
      "\n",
      "특수문자 '-'가 포함된 문장: 보통 주안역에서 내려서 (515-1)/(오백 십 오 다시 일)이나 (515번)/(오백 십 오 번)을 타고 가면은 그 앞에서 내려 주거든 원래 그렇게 갔는데\n",
      "\n",
      "특수문자 '&'가 포함된 문장: 응. 그 만화영화인데 이제 아동극이지. 그거 b/ 삼성역 앞에 상상 아트홀 (KT&G)/(케이 티 엔 지) 거기서 했는데. b/\n",
      "\n",
      "특수문자 ':'가 포함된 문장: b/ 그러다 보니까 뭐/ 굳이 뭐/ (9:1)/(구 대 일)? (8:2)/(팔 대 이) 이런 비율을 나눈다기보다 b/ 뭐/ 연애를 할 때 있어서 항상 내가 더 내곤 했지. b/ 근데 이제 b/\n",
      "\n",
      "특수문자 '#'가 포함된 문장: #\n",
      "\n"
     ]
    },
    {
     "name": "stderr",
     "output_type": "stream",
     "text": [
      "\n"
     ]
    }
   ],
   "source": [
    "import random\n",
    "spec_to_sentences = defaultdict(list)\n",
    "\n",
    "for text in tqdm(merged_df['label'].dropna()):\n",
    "    specs = re.findall(r'[^\\w\\s]', text)\n",
    "    # 같은 문장 내에서도 중복된 특수문자 대신 한번만 기록하도록 set 사용\n",
    "    for spec in set(specs):\n",
    "        spec_to_sentences[spec].append(text)\n",
    "\n",
    "result = {}\n",
    "for spec, sentences in spec_to_sentences.items():\n",
    "    result[spec] = random.choice(sentences)\n",
    "    \n",
    "for spec, sentence in result.items():\n",
    "    print(f\"특수문자 '{spec}'가 포함된 문장: {sentence}\")"
   ]
  },
  {
   "cell_type": "code",
   "execution_count": 12,
   "id": "89f70df5",
   "metadata": {},
   "outputs": [],
   "source": [
    "def transform_func(text: str) -> str:\n",
    "    pattern = r'\\((.*?)\\)/\\((.*?)\\)'\n",
    "    transformed_text = text.replace('\\n', '')\n",
    "    transformed_text = re.sub(pattern, r'\\2', transformed_text)\n",
    "    # transformed_text = re.sub(r\"[:'`]\", \"\", transformed_text)\n",
    "    # transformed_text = re.sub(r\"[·]\", \" \", transformed_text)\n",
    "    transformed_text = re.sub(r'(?:b/|l/|o/|n/|[\\/+*\\.,?!]|#)', '', transformed_text)\n",
    "    \n",
    "    pattern = re.compile(r'\\s\\s+') # 스페이스바 두 번 이상일 때\n",
    "    transformed_text = re.sub(pattern, ' ', transformed_text.strip())\n",
    "    return transformed_text"
   ]
  },
  {
   "cell_type": "code",
   "execution_count": 13,
   "id": "9f553bcf",
   "metadata": {},
   "outputs": [
    {
     "data": {
      "text/plain": [
       "'아 고게 꽤 큰가 보네 죽전 포 D까지 하는 거면'"
      ]
     },
     "execution_count": 13,
     "metadata": {},
     "output_type": "execute_result"
    }
   ],
   "source": [
    "transform_func(\"아/ 고게 꽤 큰가 보네. 죽전, (4D)/(포 D)까지 하는 거면\")"
   ]
  },
  {
   "cell_type": "code",
   "execution_count": 14,
   "id": "cc73395f",
   "metadata": {},
   "outputs": [],
   "source": [
    "merged_df['label.transformed'] = merged_df['label'].apply(transform_func)"
   ]
  },
  {
   "cell_type": "code",
   "execution_count": 15,
   "id": "ac4a0871",
   "metadata": {},
   "outputs": [
    {
     "name": "stderr",
     "output_type": "stream",
     "text": [
      "100%|██████████| 620800/620800 [00:00<00:00, 647380.34it/s]"
     ]
    },
    {
     "name": "stdout",
     "output_type": "stream",
     "text": [
      "특수문자 개수 집계:\n",
      "'%': 9\n",
      "'-': 15\n"
     ]
    },
    {
     "name": "stderr",
     "output_type": "stream",
     "text": [
      "\n"
     ]
    }
   ],
   "source": [
    "special_char_counts = count_special_characters_in_dataframe(merged_df, text_column='label.transformed')\n",
    "print(\"특수문자 개수 집계:\")\n",
    "for char, count in special_char_counts.items():\n",
    "    print(f\"'{char}': {count}\")"
   ]
  },
  {
   "cell_type": "code",
   "execution_count": 16,
   "id": "e293506d",
   "metadata": {},
   "outputs": [
    {
     "name": "stderr",
     "output_type": "stream",
     "text": [
      "  0%|          | 0/620800 [00:00<?, ?it/s]"
     ]
    },
    {
     "name": "stderr",
     "output_type": "stream",
     "text": [
      "100%|██████████| 620800/620800 [00:00<00:00, 1159565.96it/s]"
     ]
    },
    {
     "name": "stdout",
     "output_type": "stream",
     "text": [
      "특수문자 '%'가 포함된 문장: 그리고 너가 누굴 데리고 오잖아 그럼 그 %를 너도 받고 나도 받아 왜냐면 내가 데려온 애고\n",
      "특수문자 '-'가 포함된 문장: 아 너가 보기에는 안 좋을 거야 너가 맨날 그 x-ray 로 막 그거 보니까 내 거 x-ray 하면 너 완전 헤 할걸\n"
     ]
    },
    {
     "name": "stderr",
     "output_type": "stream",
     "text": [
      "\n"
     ]
    }
   ],
   "source": [
    "import random\n",
    "spec_to_sentences = defaultdict(list)\n",
    "\n",
    "for text in tqdm(merged_df['label.transformed'].dropna()):\n",
    "    specs = re.findall(r'[^\\w\\s]', text)\n",
    "    # 같은 문장 내에서도 중복된 특수문자 대신 한번만 기록하도록 set 사용\n",
    "    for spec in set(specs):\n",
    "        spec_to_sentences[spec].append(text)\n",
    "\n",
    "result = {}\n",
    "for spec, sentences in spec_to_sentences.items():\n",
    "    result[spec] = random.choice(sentences)\n",
    "    \n",
    "for spec, sentence in result.items():\n",
    "    print(f\"특수문자 '{spec}'가 포함된 문장: {sentence}\")"
   ]
  },
  {
   "cell_type": "code",
   "execution_count": 17,
   "id": "10eb7016",
   "metadata": {},
   "outputs": [],
   "source": [
    "filtered_df = merged_df[merged_df['label.transformed'].str.match(r'^[ㄱ-ㅎ가-힣 ]+$')]"
   ]
  },
  {
   "cell_type": "code",
   "execution_count": 18,
   "id": "304d4398",
   "metadata": {},
   "outputs": [
    {
     "data": {
      "text/html": [
       "<div>\n",
       "<style scoped>\n",
       "    .dataframe tbody tr th:only-of-type {\n",
       "        vertical-align: middle;\n",
       "    }\n",
       "\n",
       "    .dataframe tbody tr th {\n",
       "        vertical-align: top;\n",
       "    }\n",
       "\n",
       "    .dataframe thead th {\n",
       "        text-align: right;\n",
       "    }\n",
       "</style>\n",
       "<table border=\"1\" class=\"dataframe\">\n",
       "  <thead>\n",
       "    <tr style=\"text-align: right;\">\n",
       "      <th></th>\n",
       "      <th>audio_path</th>\n",
       "      <th>label_path</th>\n",
       "      <th>label</th>\n",
       "      <th>label.transformed</th>\n",
       "    </tr>\n",
       "  </thead>\n",
       "  <tbody>\n",
       "    <tr>\n",
       "      <th>0</th>\n",
       "      <td>./data/korean/KsponSpeech_04/KsponSpeech_0373/...</td>\n",
       "      <td>./data/korean/KsponSpeech_04/KsponSpeech_0373/...</td>\n",
       "      <td>그렇게 되면 또 (2월)/(이 월)로 넘어가겠지.\\n</td>\n",
       "      <td>그렇게 되면 또 이 월로 넘어가겠지</td>\n",
       "    </tr>\n",
       "    <tr>\n",
       "      <th>1</th>\n",
       "      <td>./data/korean/KsponSpeech_04/KsponSpeech_0373/...</td>\n",
       "      <td>./data/korean/KsponSpeech_04/KsponSpeech_0373/...</td>\n",
       "      <td>뭐/ 기아. 막/ 그런 사람들이 어떻게 더 좋게 살아갈 수 있을까. 이렇게 b/ 평...</td>\n",
       "      <td>뭐 기아 막 그런 사람들이 어떻게 더 좋게 살아갈 수 있을까 이렇게 평상시에도 관심...</td>\n",
       "    </tr>\n",
       "    <tr>\n",
       "      <th>2</th>\n",
       "      <td>./data/korean/KsponSpeech_04/KsponSpeech_0373/...</td>\n",
       "      <td>./data/korean/KsponSpeech_04/KsponSpeech_0373/...</td>\n",
       "      <td>중점적으로 하는 학원인데, b/ 그거를 해서 아이들이 공부하는 까. b/\\n</td>\n",
       "      <td>중점적으로 하는 학원인데 그거를 해서 아이들이 공부하는 까</td>\n",
       "    </tr>\n",
       "    <tr>\n",
       "      <th>3</th>\n",
       "      <td>./data/korean/KsponSpeech_04/KsponSpeech_0373/...</td>\n",
       "      <td>./data/korean/KsponSpeech_04/KsponSpeech_0373/...</td>\n",
       "      <td>공단은 나도 잘 모르겠다. (4층)/(사 층)인가? n/ 아니 공단.\\n</td>\n",
       "      <td>공단은 나도 잘 모르겠다 사 층인가 아니 공단</td>\n",
       "    </tr>\n",
       "    <tr>\n",
       "      <th>4</th>\n",
       "      <td>./data/korean/KsponSpeech_04/KsponSpeech_0373/...</td>\n",
       "      <td>./data/korean/KsponSpeech_04/KsponSpeech_0373/...</td>\n",
       "      <td>n/ 아까 뭐 만들었는지 얘기해줬잖아.\\n</td>\n",
       "      <td>아까 뭐 만들었는지 얘기해줬잖아</td>\n",
       "    </tr>\n",
       "  </tbody>\n",
       "</table>\n",
       "</div>"
      ],
      "text/plain": [
       "                                          audio_path  \\\n",
       "0  ./data/korean/KsponSpeech_04/KsponSpeech_0373/...   \n",
       "1  ./data/korean/KsponSpeech_04/KsponSpeech_0373/...   \n",
       "2  ./data/korean/KsponSpeech_04/KsponSpeech_0373/...   \n",
       "3  ./data/korean/KsponSpeech_04/KsponSpeech_0373/...   \n",
       "4  ./data/korean/KsponSpeech_04/KsponSpeech_0373/...   \n",
       "\n",
       "                                          label_path  \\\n",
       "0  ./data/korean/KsponSpeech_04/KsponSpeech_0373/...   \n",
       "1  ./data/korean/KsponSpeech_04/KsponSpeech_0373/...   \n",
       "2  ./data/korean/KsponSpeech_04/KsponSpeech_0373/...   \n",
       "3  ./data/korean/KsponSpeech_04/KsponSpeech_0373/...   \n",
       "4  ./data/korean/KsponSpeech_04/KsponSpeech_0373/...   \n",
       "\n",
       "                                               label  \\\n",
       "0                      그렇게 되면 또 (2월)/(이 월)로 넘어가겠지.\\n   \n",
       "1  뭐/ 기아. 막/ 그런 사람들이 어떻게 더 좋게 살아갈 수 있을까. 이렇게 b/ 평...   \n",
       "2         중점적으로 하는 학원인데, b/ 그거를 해서 아이들이 공부하는 까. b/\\n   \n",
       "3           공단은 나도 잘 모르겠다. (4층)/(사 층)인가? n/ 아니 공단.\\n   \n",
       "4                            n/ 아까 뭐 만들었는지 얘기해줬잖아.\\n   \n",
       "\n",
       "                                   label.transformed  \n",
       "0                                그렇게 되면 또 이 월로 넘어가겠지  \n",
       "1  뭐 기아 막 그런 사람들이 어떻게 더 좋게 살아갈 수 있을까 이렇게 평상시에도 관심...  \n",
       "2                   중점적으로 하는 학원인데 그거를 해서 아이들이 공부하는 까  \n",
       "3                          공단은 나도 잘 모르겠다 사 층인가 아니 공단  \n",
       "4                                  아까 뭐 만들었는지 얘기해줬잖아  "
      ]
     },
     "execution_count": 18,
     "metadata": {},
     "output_type": "execute_result"
    }
   ],
   "source": [
    "filtered_df.head()"
   ]
  },
  {
   "cell_type": "code",
   "execution_count": 19,
   "id": "fcc927d2",
   "metadata": {},
   "outputs": [
    {
     "data": {
      "text/plain": [
       "(603978, 4)"
      ]
     },
     "execution_count": 19,
     "metadata": {},
     "output_type": "execute_result"
    }
   ],
   "source": [
    "filtered_df.shape"
   ]
  },
  {
   "cell_type": "code",
   "execution_count": 20,
   "id": "b76cedc5",
   "metadata": {},
   "outputs": [],
   "source": [
    "def convert_ipa(item):\n",
    "    return convert(item, rules_to_apply='pastcnovr')['result_array']"
   ]
  },
  {
   "cell_type": "code",
   "execution_count": 21,
   "id": "c95376b6",
   "metadata": {},
   "outputs": [
    {
     "name": "stderr",
     "output_type": "stream",
     "text": [
      "100%|██████████| 603978/603978 [15:37<00:00, 644.19it/s]\n",
      "/tmp/ipykernel_61636/3843269787.py:7: SettingWithCopyWarning: \n",
      "A value is trying to be set on a copy of a slice from a DataFrame.\n",
      "Try using .loc[row_indexer,col_indexer] = value instead\n",
      "\n",
      "See the caveats in the documentation: https://pandas.pydata.org/pandas-docs/stable/user_guide/indexing.html#returning-a-view-versus-a-copy\n",
      "  filtered_df['ipa'] = res\n",
      "/tmp/ipykernel_61636/3843269787.py:8: SettingWithCopyWarning: \n",
      "A value is trying to be set on a copy of a slice from a DataFrame.\n",
      "Try using .loc[row_indexer,col_indexer] = value instead\n",
      "\n",
      "See the caveats in the documentation: https://pandas.pydata.org/pandas-docs/stable/user_guide/indexing.html#returning-a-view-versus-a-copy\n",
      "  filtered_df['ipa_array'] = res_list\n"
     ]
    }
   ],
   "source": [
    "res = []\n",
    "res_list = []\n",
    "for v in tqdm(filtered_df['label.transformed']):\n",
    "    con = convert(v, rules_to_apply='pastcnovr')\n",
    "    res.append(con['result'])\n",
    "    res_list.append(con['result_array'])\n",
    "filtered_df['ipa'] = res\n",
    "filtered_df['ipa_array'] = res_list"
   ]
  },
  {
   "cell_type": "code",
   "execution_count": 22,
   "id": "aacb2831",
   "metadata": {},
   "outputs": [
    {
     "data": {
      "text/html": [
       "<div>\n",
       "<style scoped>\n",
       "    .dataframe tbody tr th:only-of-type {\n",
       "        vertical-align: middle;\n",
       "    }\n",
       "\n",
       "    .dataframe tbody tr th {\n",
       "        vertical-align: top;\n",
       "    }\n",
       "\n",
       "    .dataframe thead th {\n",
       "        text-align: right;\n",
       "    }\n",
       "</style>\n",
       "<table border=\"1\" class=\"dataframe\">\n",
       "  <thead>\n",
       "    <tr style=\"text-align: right;\">\n",
       "      <th></th>\n",
       "      <th>audio_path</th>\n",
       "      <th>label_path</th>\n",
       "      <th>label</th>\n",
       "      <th>label.transformed</th>\n",
       "      <th>ipa</th>\n",
       "      <th>ipa_array</th>\n",
       "    </tr>\n",
       "  </thead>\n",
       "  <tbody>\n",
       "    <tr>\n",
       "      <th>0</th>\n",
       "      <td>./data/korean/KsponSpeech_04/KsponSpeech_0373/...</td>\n",
       "      <td>./data/korean/KsponSpeech_04/KsponSpeech_0373/...</td>\n",
       "      <td>그렇게 되면 또 (2월)/(이 월)로 넘어가겠지.\\n</td>\n",
       "      <td>그렇게 되면 또 이 월로 넘어가겠지</td>\n",
       "      <td>kɯɾʌkʰɛ dwɛmjʌn t*o i wʌllo nʌmʌɡɑɡɛttɕ*i</td>\n",
       "      <td>[k, ɯ, ɾ, ʌ, kʰ, ɛ,  , d, wɛ, m, jʌ, n,  , t*,...</td>\n",
       "    </tr>\n",
       "    <tr>\n",
       "      <th>1</th>\n",
       "      <td>./data/korean/KsponSpeech_04/KsponSpeech_0373/...</td>\n",
       "      <td>./data/korean/KsponSpeech_04/KsponSpeech_0373/...</td>\n",
       "      <td>뭐/ 기아. 막/ 그런 사람들이 어떻게 더 좋게 살아갈 수 있을까. 이렇게 b/ 평...</td>\n",
       "      <td>뭐 기아 막 그런 사람들이 어떻게 더 좋게 살아갈 수 있을까 이렇게 평상시에도 관심...</td>\n",
       "      <td>mwʌ ɡiɑ mɑk k*ɯɾʌn sɑɾɑmdɯɾi ʌt*ʌkʰɛ dʌ dʑokʰɛ...</td>\n",
       "      <td>[m, wʌ,  , ɡ, i, ɑ,  , m, ɑ, k,  , k*, ɯ, ɾ, ʌ...</td>\n",
       "    </tr>\n",
       "    <tr>\n",
       "      <th>2</th>\n",
       "      <td>./data/korean/KsponSpeech_04/KsponSpeech_0373/...</td>\n",
       "      <td>./data/korean/KsponSpeech_04/KsponSpeech_0373/...</td>\n",
       "      <td>중점적으로 하는 학원인데, b/ 그거를 해서 아이들이 공부하는 까. b/\\n</td>\n",
       "      <td>중점적으로 하는 학원인데 그거를 해서 아이들이 공부하는 까</td>\n",
       "      <td>tɕuŋdʑʌmdʑʌɡɯɾo hɑnɯn hɑɡwʌnindɛ ɡɯɡʌɾɯl hɛsʌ ...</td>\n",
       "      <td>[tɕ, u, ŋ, dʑ, ʌ, m, dʑ, ʌ, ɡ, ɯ, ɾ, o,  , h, ...</td>\n",
       "    </tr>\n",
       "    <tr>\n",
       "      <th>3</th>\n",
       "      <td>./data/korean/KsponSpeech_04/KsponSpeech_0373/...</td>\n",
       "      <td>./data/korean/KsponSpeech_04/KsponSpeech_0373/...</td>\n",
       "      <td>공단은 나도 잘 모르겠다. (4층)/(사 층)인가? n/ 아니 공단.\\n</td>\n",
       "      <td>공단은 나도 잘 모르겠다 사 층인가 아니 공단</td>\n",
       "      <td>koŋdɑnɯn nɑdo dʑɑl moɾɯɡɛtt*ɑ sɑ tɕʰɯŋiŋɡɑ ɑni...</td>\n",
       "      <td>[k, o, ŋ, d, ɑ, n, ɯ, n,  , n, ɑ, d, o,  , dʑ,...</td>\n",
       "    </tr>\n",
       "    <tr>\n",
       "      <th>4</th>\n",
       "      <td>./data/korean/KsponSpeech_04/KsponSpeech_0373/...</td>\n",
       "      <td>./data/korean/KsponSpeech_04/KsponSpeech_0373/...</td>\n",
       "      <td>n/ 아까 뭐 만들었는지 얘기해줬잖아.\\n</td>\n",
       "      <td>아까 뭐 만들었는지 얘기해줬잖아</td>\n",
       "      <td>ɑk*ɑ mwʌ mɑndɯɾʌnnɯndʑi jɛɡihɛdʑwʌttɕ*ɑnhɑ</td>\n",
       "      <td>[ɑ, k*, ɑ,  , m, wʌ,  , m, ɑ, n, d, ɯ, ɾ, ʌ, n...</td>\n",
       "    </tr>\n",
       "  </tbody>\n",
       "</table>\n",
       "</div>"
      ],
      "text/plain": [
       "                                          audio_path  \\\n",
       "0  ./data/korean/KsponSpeech_04/KsponSpeech_0373/...   \n",
       "1  ./data/korean/KsponSpeech_04/KsponSpeech_0373/...   \n",
       "2  ./data/korean/KsponSpeech_04/KsponSpeech_0373/...   \n",
       "3  ./data/korean/KsponSpeech_04/KsponSpeech_0373/...   \n",
       "4  ./data/korean/KsponSpeech_04/KsponSpeech_0373/...   \n",
       "\n",
       "                                          label_path  \\\n",
       "0  ./data/korean/KsponSpeech_04/KsponSpeech_0373/...   \n",
       "1  ./data/korean/KsponSpeech_04/KsponSpeech_0373/...   \n",
       "2  ./data/korean/KsponSpeech_04/KsponSpeech_0373/...   \n",
       "3  ./data/korean/KsponSpeech_04/KsponSpeech_0373/...   \n",
       "4  ./data/korean/KsponSpeech_04/KsponSpeech_0373/...   \n",
       "\n",
       "                                               label  \\\n",
       "0                      그렇게 되면 또 (2월)/(이 월)로 넘어가겠지.\\n   \n",
       "1  뭐/ 기아. 막/ 그런 사람들이 어떻게 더 좋게 살아갈 수 있을까. 이렇게 b/ 평...   \n",
       "2         중점적으로 하는 학원인데, b/ 그거를 해서 아이들이 공부하는 까. b/\\n   \n",
       "3           공단은 나도 잘 모르겠다. (4층)/(사 층)인가? n/ 아니 공단.\\n   \n",
       "4                            n/ 아까 뭐 만들었는지 얘기해줬잖아.\\n   \n",
       "\n",
       "                                   label.transformed  \\\n",
       "0                                그렇게 되면 또 이 월로 넘어가겠지   \n",
       "1  뭐 기아 막 그런 사람들이 어떻게 더 좋게 살아갈 수 있을까 이렇게 평상시에도 관심...   \n",
       "2                   중점적으로 하는 학원인데 그거를 해서 아이들이 공부하는 까   \n",
       "3                          공단은 나도 잘 모르겠다 사 층인가 아니 공단   \n",
       "4                                  아까 뭐 만들었는지 얘기해줬잖아   \n",
       "\n",
       "                                                 ipa  \\\n",
       "0          kɯɾʌkʰɛ dwɛmjʌn t*o i wʌllo nʌmʌɡɑɡɛttɕ*i   \n",
       "1  mwʌ ɡiɑ mɑk k*ɯɾʌn sɑɾɑmdɯɾi ʌt*ʌkʰɛ dʌ dʑokʰɛ...   \n",
       "2  tɕuŋdʑʌmdʑʌɡɯɾo hɑnɯn hɑɡwʌnindɛ ɡɯɡʌɾɯl hɛsʌ ...   \n",
       "3  koŋdɑnɯn nɑdo dʑɑl moɾɯɡɛtt*ɑ sɑ tɕʰɯŋiŋɡɑ ɑni...   \n",
       "4         ɑk*ɑ mwʌ mɑndɯɾʌnnɯndʑi jɛɡihɛdʑwʌttɕ*ɑnhɑ   \n",
       "\n",
       "                                           ipa_array  \n",
       "0  [k, ɯ, ɾ, ʌ, kʰ, ɛ,  , d, wɛ, m, jʌ, n,  , t*,...  \n",
       "1  [m, wʌ,  , ɡ, i, ɑ,  , m, ɑ, k,  , k*, ɯ, ɾ, ʌ...  \n",
       "2  [tɕ, u, ŋ, dʑ, ʌ, m, dʑ, ʌ, ɡ, ɯ, ɾ, o,  , h, ...  \n",
       "3  [k, o, ŋ, d, ɑ, n, ɯ, n,  , n, ɑ, d, o,  , dʑ,...  \n",
       "4  [ɑ, k*, ɑ,  , m, wʌ,  , m, ɑ, n, d, ɯ, ɾ, ʌ, n...  "
      ]
     },
     "execution_count": 22,
     "metadata": {},
     "output_type": "execute_result"
    }
   ],
   "source": [
    "filtered_df.head()"
   ]
  },
  {
   "cell_type": "code",
   "execution_count": 30,
   "id": "d7c5fe90",
   "metadata": {},
   "outputs": [],
   "source": [
    "filtered_df.columns = ['soundpath', 'labelpath', 'script.text', 'script.text.transformed', 'script.text.ipa', 'script.text.ipa_array']\n",
    "new_df = filtered_df[['soundpath', 'script.text.ipa', 'script.text.ipa_array', 'script.text.transformed']]"
   ]
  },
  {
   "cell_type": "code",
   "execution_count": 31,
   "id": "d4ce41fa",
   "metadata": {},
   "outputs": [
    {
     "data": {
      "text/html": [
       "<div>\n",
       "<style scoped>\n",
       "    .dataframe tbody tr th:only-of-type {\n",
       "        vertical-align: middle;\n",
       "    }\n",
       "\n",
       "    .dataframe tbody tr th {\n",
       "        vertical-align: top;\n",
       "    }\n",
       "\n",
       "    .dataframe thead th {\n",
       "        text-align: right;\n",
       "    }\n",
       "</style>\n",
       "<table border=\"1\" class=\"dataframe\">\n",
       "  <thead>\n",
       "    <tr style=\"text-align: right;\">\n",
       "      <th></th>\n",
       "      <th>soundpath</th>\n",
       "      <th>script.text.ipa</th>\n",
       "      <th>script.text.ipa_array</th>\n",
       "      <th>script.text.transformed</th>\n",
       "    </tr>\n",
       "  </thead>\n",
       "  <tbody>\n",
       "    <tr>\n",
       "      <th>0</th>\n",
       "      <td>./data/korean/KsponSpeech_04/KsponSpeech_0373/...</td>\n",
       "      <td>kɯɾʌkʰɛ dwɛmjʌn t*o i wʌllo nʌmʌɡɑɡɛttɕ*i</td>\n",
       "      <td>[k, ɯ, ɾ, ʌ, kʰ, ɛ,  , d, wɛ, m, jʌ, n,  , t*,...</td>\n",
       "      <td>그렇게 되면 또 이 월로 넘어가겠지</td>\n",
       "    </tr>\n",
       "    <tr>\n",
       "      <th>1</th>\n",
       "      <td>./data/korean/KsponSpeech_04/KsponSpeech_0373/...</td>\n",
       "      <td>mwʌ ɡiɑ mɑk k*ɯɾʌn sɑɾɑmdɯɾi ʌt*ʌkʰɛ dʌ dʑokʰɛ...</td>\n",
       "      <td>[m, wʌ,  , ɡ, i, ɑ,  , m, ɑ, k,  , k*, ɯ, ɾ, ʌ...</td>\n",
       "      <td>뭐 기아 막 그런 사람들이 어떻게 더 좋게 살아갈 수 있을까 이렇게 평상시에도 관심...</td>\n",
       "    </tr>\n",
       "    <tr>\n",
       "      <th>2</th>\n",
       "      <td>./data/korean/KsponSpeech_04/KsponSpeech_0373/...</td>\n",
       "      <td>tɕuŋdʑʌmdʑʌɡɯɾo hɑnɯn hɑɡwʌnindɛ ɡɯɡʌɾɯl hɛsʌ ...</td>\n",
       "      <td>[tɕ, u, ŋ, dʑ, ʌ, m, dʑ, ʌ, ɡ, ɯ, ɾ, o,  , h, ...</td>\n",
       "      <td>중점적으로 하는 학원인데 그거를 해서 아이들이 공부하는 까</td>\n",
       "    </tr>\n",
       "    <tr>\n",
       "      <th>3</th>\n",
       "      <td>./data/korean/KsponSpeech_04/KsponSpeech_0373/...</td>\n",
       "      <td>koŋdɑnɯn nɑdo dʑɑl moɾɯɡɛtt*ɑ sɑ tɕʰɯŋiŋɡɑ ɑni...</td>\n",
       "      <td>[k, o, ŋ, d, ɑ, n, ɯ, n,  , n, ɑ, d, o,  , dʑ,...</td>\n",
       "      <td>공단은 나도 잘 모르겠다 사 층인가 아니 공단</td>\n",
       "    </tr>\n",
       "    <tr>\n",
       "      <th>4</th>\n",
       "      <td>./data/korean/KsponSpeech_04/KsponSpeech_0373/...</td>\n",
       "      <td>ɑk*ɑ mwʌ mɑndɯɾʌnnɯndʑi jɛɡihɛdʑwʌttɕ*ɑnhɑ</td>\n",
       "      <td>[ɑ, k*, ɑ,  , m, wʌ,  , m, ɑ, n, d, ɯ, ɾ, ʌ, n...</td>\n",
       "      <td>아까 뭐 만들었는지 얘기해줬잖아</td>\n",
       "    </tr>\n",
       "  </tbody>\n",
       "</table>\n",
       "</div>"
      ],
      "text/plain": [
       "                                           soundpath  \\\n",
       "0  ./data/korean/KsponSpeech_04/KsponSpeech_0373/...   \n",
       "1  ./data/korean/KsponSpeech_04/KsponSpeech_0373/...   \n",
       "2  ./data/korean/KsponSpeech_04/KsponSpeech_0373/...   \n",
       "3  ./data/korean/KsponSpeech_04/KsponSpeech_0373/...   \n",
       "4  ./data/korean/KsponSpeech_04/KsponSpeech_0373/...   \n",
       "\n",
       "                                     script.text.ipa  \\\n",
       "0          kɯɾʌkʰɛ dwɛmjʌn t*o i wʌllo nʌmʌɡɑɡɛttɕ*i   \n",
       "1  mwʌ ɡiɑ mɑk k*ɯɾʌn sɑɾɑmdɯɾi ʌt*ʌkʰɛ dʌ dʑokʰɛ...   \n",
       "2  tɕuŋdʑʌmdʑʌɡɯɾo hɑnɯn hɑɡwʌnindɛ ɡɯɡʌɾɯl hɛsʌ ...   \n",
       "3  koŋdɑnɯn nɑdo dʑɑl moɾɯɡɛtt*ɑ sɑ tɕʰɯŋiŋɡɑ ɑni...   \n",
       "4         ɑk*ɑ mwʌ mɑndɯɾʌnnɯndʑi jɛɡihɛdʑwʌttɕ*ɑnhɑ   \n",
       "\n",
       "                               script.text.ipa_array  \\\n",
       "0  [k, ɯ, ɾ, ʌ, kʰ, ɛ,  , d, wɛ, m, jʌ, n,  , t*,...   \n",
       "1  [m, wʌ,  , ɡ, i, ɑ,  , m, ɑ, k,  , k*, ɯ, ɾ, ʌ...   \n",
       "2  [tɕ, u, ŋ, dʑ, ʌ, m, dʑ, ʌ, ɡ, ɯ, ɾ, o,  , h, ...   \n",
       "3  [k, o, ŋ, d, ɑ, n, ɯ, n,  , n, ɑ, d, o,  , dʑ,...   \n",
       "4  [ɑ, k*, ɑ,  , m, wʌ,  , m, ɑ, n, d, ɯ, ɾ, ʌ, n...   \n",
       "\n",
       "                             script.text.transformed  \n",
       "0                                그렇게 되면 또 이 월로 넘어가겠지  \n",
       "1  뭐 기아 막 그런 사람들이 어떻게 더 좋게 살아갈 수 있을까 이렇게 평상시에도 관심...  \n",
       "2                   중점적으로 하는 학원인데 그거를 해서 아이들이 공부하는 까  \n",
       "3                          공단은 나도 잘 모르겠다 사 층인가 아니 공단  \n",
       "4                                  아까 뭐 만들었는지 얘기해줬잖아  "
      ]
     },
     "execution_count": 31,
     "metadata": {},
     "output_type": "execute_result"
    }
   ],
   "source": [
    "new_df.head()"
   ]
  },
  {
   "cell_type": "code",
   "execution_count": 32,
   "id": "81a2ef46",
   "metadata": {},
   "outputs": [],
   "source": [
    "new_df.to_pickle('./data/korean/preprocessed.pickle')"
   ]
  },
  {
   "cell_type": "code",
   "execution_count": 33,
   "id": "ac13234c",
   "metadata": {},
   "outputs": [],
   "source": [
    "from sklearn.model_selection import train_test_split"
   ]
  },
  {
   "cell_type": "code",
   "execution_count": 34,
   "id": "a5d3189f",
   "metadata": {},
   "outputs": [],
   "source": [
    "train_df, test_df = train_test_split(\n",
    "    new_df,\n",
    "    test_size=0.2,       # test set 비율 (또는 train_size=0.8 사용)\n",
    "    random_state=42,     # 재현성을 위한 시드\n",
    "    shuffle=True         # (기본값) 랜덤 셔플\n",
    ")"
   ]
  },
  {
   "cell_type": "code",
   "execution_count": 35,
   "id": "655413cf",
   "metadata": {},
   "outputs": [],
   "source": [
    "train_df.to_pickle('./data/korean/preprocessed_train.pickle')\n",
    "test_df.to_pickle('./data/korean/preprocessed_test.pickle')"
   ]
  },
  {
   "cell_type": "code",
   "execution_count": null,
   "id": "6052b409",
   "metadata": {},
   "outputs": [],
   "source": []
  }
 ],
 "metadata": {
  "kernelspec": {
   "display_name": "base",
   "language": "python",
   "name": "python3"
  },
  "language_info": {
   "codemirror_mode": {
    "name": "ipython",
    "version": 3
   },
   "file_extension": ".py",
   "mimetype": "text/x-python",
   "name": "python",
   "nbconvert_exporter": "python",
   "pygments_lexer": "ipython3",
   "version": "3.12.4"
  }
 },
 "nbformat": 4,
 "nbformat_minor": 5
}
